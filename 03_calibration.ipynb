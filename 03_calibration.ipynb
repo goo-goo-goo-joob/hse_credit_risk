{
 "cells": [
  {
   "cell_type": "markdown",
   "id": "a63f26bd-4ce2-4068-9ee6-06d18ed21731",
   "metadata": {},
   "source": [
    "Калибровка за год до oot - 2016"
   ]
  },
  {
   "cell_type": "code",
   "execution_count": 36,
   "id": "a925695e-30bd-4b16-b87f-1e663510d1f5",
   "metadata": {
    "execution": {
     "iopub.execute_input": "2022-06-18T21:32:28.136689Z",
     "iopub.status.busy": "2022-06-18T21:32:28.136082Z",
     "iopub.status.idle": "2022-06-18T21:32:28.139574Z",
     "shell.execute_reply": "2022-06-18T21:32:28.139125Z",
     "shell.execute_reply.started": "2022-06-18T21:32:28.136666Z"
    },
    "tags": []
   },
   "outputs": [],
   "source": [
    "import catboost\n",
    "import matplotlib.pyplot as plt\n",
    "import numpy as np\n",
    "import pandas as pd\n",
    "import scipy.stats as ss\n",
    "from sklearn.linear_model import LinearRegression"
   ]
  },
  {
   "cell_type": "code",
   "execution_count": 2,
   "id": "6252afb3-97c5-4a0f-89eb-b69da2b46cc8",
   "metadata": {
    "execution": {
     "iopub.execute_input": "2022-06-18T21:21:54.600636Z",
     "iopub.status.busy": "2022-06-18T21:21:54.600085Z",
     "iopub.status.idle": "2022-06-18T21:21:58.595573Z",
     "shell.execute_reply": "2022-06-18T21:21:58.595083Z",
     "shell.execute_reply.started": "2022-06-18T21:21:54.600612Z"
    }
   },
   "outputs": [],
   "source": [
    "samples_catboost = {\n",
    "    k: pd.read_parquet(f\"/home/asciishell/s3/jupyter.asciishell.ru/data_{k}.parquet\") for k in [\"train\", \"oos\", \"oot\"]\n",
    "}\n",
    "samples_woe = {\n",
    "    k: pd.read_parquet(f\"/home/asciishell/s3/jupyter.asciishell.ru/data_{k}_with_score_WoE.parquet\")\n",
    "    for k in [\"train\", \"oos\", \"oot\"]\n",
    "}"
   ]
  },
  {
   "cell_type": "code",
   "execution_count": 7,
   "id": "d2da2121-42fb-4428-a61f-a90fe74ba934",
   "metadata": {
    "execution": {
     "iopub.execute_input": "2022-06-18T21:23:14.782972Z",
     "iopub.status.busy": "2022-06-18T21:23:14.782527Z",
     "iopub.status.idle": "2022-06-18T21:23:14.787044Z",
     "shell.execute_reply": "2022-06-18T21:23:14.786598Z",
     "shell.execute_reply.started": "2022-06-18T21:23:14.782948Z"
    },
    "tags": []
   },
   "outputs": [],
   "source": [
    "features = [\n",
    "    # \"inq_fi\",\n",
    "    # \"all_util\",\n",
    "    \"home_ownership\",\n",
    "    \"log_annual_inc\",\n",
    "    \"annual_inc\",\n",
    "    \"num_rev_tl_bal_gt_0\",\n",
    "    \"mort_acc\",\n",
    "    \"funded_amnt_inv\",\n",
    "    \"emp_title\",\n",
    "    \"bc_open_to_buy\",\n",
    "    \"debt_load\",\n",
    "    \"fico_range_low\",\n",
    "    \"fico_range_high\",\n",
    "]\n",
    "\n",
    "cat_features = [\n",
    "    \"emp_title\",\n",
    "    \"home_ownership\",\n",
    "    \"verification_status\",\n",
    "    \"purpose\",\n",
    "    \"zip_code\",\n",
    "    \"addr_state\",\n",
    "    \"initial_list_status\",\n",
    "    \"application_type\",\n",
    "    \"verification_status_joint\",\n",
    "    \"disbursement_method\",\n",
    "]\n",
    "cat_features = sorted(set(cat_features) & set(features))\n",
    "params = {\n",
    "    \"iterations\": 400,\n",
    "    \"depth\": 6,\n",
    "    \"l2_leaf_reg\": 24.337217538245532,\n",
    "    \"learning_rate\": 0.14119449759028455,\n",
    "    \"random_strength\": 1.284731588293853,\n",
    "    \"rsm\": 0.5363370106196876,\n",
    "    \"grow_policy\": \"SymmetricTree\",\n",
    "    \"od_wait\": 50,\n",
    "    \"eval_metric\": \"AUC\",\n",
    "    \"logging_level\": \"Silent\",\n",
    "}"
   ]
  },
  {
   "cell_type": "code",
   "execution_count": 8,
   "id": "2b717ca1-aa4f-4b12-b61b-7b9a85da7e22",
   "metadata": {
    "execution": {
     "iopub.execute_input": "2022-06-18T21:23:15.714837Z",
     "iopub.status.busy": "2022-06-18T21:23:15.714361Z",
     "iopub.status.idle": "2022-06-18T21:23:15.719205Z",
     "shell.execute_reply": "2022-06-18T21:23:15.718773Z",
     "shell.execute_reply.started": "2022-06-18T21:23:15.714813Z"
    },
    "tags": []
   },
   "outputs": [],
   "source": [
    "clf = catboost.CatBoostClassifier(**params)\n",
    "clf.load_model(\"catboost.cb\");"
   ]
  },
  {
   "cell_type": "code",
   "execution_count": 9,
   "id": "de44e285-9e61-4606-ade2-e492ef7399ef",
   "metadata": {
    "execution": {
     "iopub.execute_input": "2022-06-18T21:23:19.663226Z",
     "iopub.status.busy": "2022-06-18T21:23:19.662654Z",
     "iopub.status.idle": "2022-06-18T21:23:22.111870Z",
     "shell.execute_reply": "2022-06-18T21:23:22.111340Z",
     "shell.execute_reply.started": "2022-06-18T21:23:19.663204Z"
    },
    "tags": []
   },
   "outputs": [
    {
     "name": "stderr",
     "output_type": "stream",
     "text": [
      "/tmp/ipykernel_11766/3105231172.py:16: SettingWithCopyWarning: \n",
      "A value is trying to be set on a copy of a slice from a DataFrame.\n",
      "Try using .loc[row_indexer,col_indexer] = value instead\n",
      "\n",
      "See the caveats in the documentation: https://pandas.pydata.org/pandas-docs/stable/user_guide/indexing.html#returning-a-view-versus-a-copy\n",
      "  dfs_catboost[key][\"score\"] = clf.predict_proba(pools[key])[:, 1]\n",
      "/tmp/ipykernel_11766/3105231172.py:16: SettingWithCopyWarning: \n",
      "A value is trying to be set on a copy of a slice from a DataFrame.\n",
      "Try using .loc[row_indexer,col_indexer] = value instead\n",
      "\n",
      "See the caveats in the documentation: https://pandas.pydata.org/pandas-docs/stable/user_guide/indexing.html#returning-a-view-versus-a-copy\n",
      "  dfs_catboost[key][\"score\"] = clf.predict_proba(pools[key])[:, 1]\n",
      "/tmp/ipykernel_11766/3105231172.py:16: SettingWithCopyWarning: \n",
      "A value is trying to be set on a copy of a slice from a DataFrame.\n",
      "Try using .loc[row_indexer,col_indexer] = value instead\n",
      "\n",
      "See the caveats in the documentation: https://pandas.pydata.org/pandas-docs/stable/user_guide/indexing.html#returning-a-view-versus-a-copy\n",
      "  dfs_catboost[key][\"score\"] = clf.predict_proba(pools[key])[:, 1]\n"
     ]
    }
   ],
   "source": [
    "dfs_catboost = {k: v[v[\"target\"] != -1] for k, v in samples_catboost.items()}  # [features + [\"target\"]]\n",
    "dfs_woe = {k: v[v[\"target\"] != -1] for k, v in samples_woe.items()}\n",
    "\n",
    "pools = {\n",
    "    k: catboost.Pool(v[v[\"target\"] != -1][features], v[v[\"target\"] != -1][\"target\"], cat_features=cat_features)\n",
    "    for k, v in samples_catboost.items()\n",
    "}\n",
    "\n",
    "for key in pools:\n",
    "    dfs_catboost[key][\"score\"] = clf.predict_proba(pools[key])[:, 1]"
   ]
  },
  {
   "cell_type": "code",
   "execution_count": 92,
   "id": "fb919d9b-6ced-49ba-8266-01de4534c95f",
   "metadata": {
    "execution": {
     "iopub.execute_input": "2022-06-18T21:44:44.194913Z",
     "iopub.status.busy": "2022-06-18T21:44:44.194295Z",
     "iopub.status.idle": "2022-06-18T21:44:44.253981Z",
     "shell.execute_reply": "2022-06-18T21:44:44.253578Z",
     "shell.execute_reply.started": "2022-06-18T21:44:44.194889Z"
    },
    "tags": []
   },
   "outputs": [
    {
     "data": {
      "text/plain": [
       "(array([1.29130818]), -0.0010174000394091443)"
      ]
     },
     "execution_count": 92,
     "metadata": {},
     "output_type": "execute_result"
    }
   ],
   "source": [
    "df = dfs_woe[\"oos\"]\n",
    "df = df[(df[\"issue_d\"].dt.year == 2016) & (df[\"issue_d\"].dt.month > 6)]\n",
    "lr = LinearRegression()\n",
    "lr.fit(df[\"score\"].values.reshape(-1, 1), df[\"target\"])\n",
    "lr.coef_, lr.intercept_"
   ]
  },
  {
   "cell_type": "code",
   "execution_count": 93,
   "id": "ceca262c-3ca4-4c48-9d53-6c295fb9426f",
   "metadata": {
    "execution": {
     "iopub.execute_input": "2022-06-18T21:44:44.493259Z",
     "iopub.status.busy": "2022-06-18T21:44:44.492637Z",
     "iopub.status.idle": "2022-06-18T21:44:44.497624Z",
     "shell.execute_reply": "2022-06-18T21:44:44.497197Z",
     "shell.execute_reply.started": "2022-06-18T21:44:44.493238Z"
    },
    "tags": []
   },
   "outputs": [
    {
     "data": {
      "text/plain": [
       "(0.25479634616986424, 0.25479634616986424)"
      ]
     },
     "execution_count": 93,
     "metadata": {},
     "output_type": "execute_result"
    }
   ],
   "source": [
    "lr.predict(df[\"score\"].values.reshape(-1, 1)).mean(), df[\"target\"].mean()"
   ]
  },
  {
   "cell_type": "code",
   "execution_count": 94,
   "id": "6fe4a956-5771-4656-9526-b580d95d4a3e",
   "metadata": {
    "execution": {
     "iopub.execute_input": "2022-06-18T21:44:45.925699Z",
     "iopub.status.busy": "2022-06-18T21:44:45.925186Z",
     "iopub.status.idle": "2022-06-18T21:44:45.997735Z",
     "shell.execute_reply": "2022-06-18T21:44:45.997315Z",
     "shell.execute_reply.started": "2022-06-18T21:44:45.925675Z"
    },
    "tags": []
   },
   "outputs": [
    {
     "data": {
      "text/html": [
       "<div>\n",
       "<style scoped>\n",
       "    .dataframe tbody tr th:only-of-type {\n",
       "        vertical-align: middle;\n",
       "    }\n",
       "\n",
       "    .dataframe tbody tr th {\n",
       "        vertical-align: top;\n",
       "    }\n",
       "\n",
       "    .dataframe thead th {\n",
       "        text-align: right;\n",
       "    }\n",
       "</style>\n",
       "<table border=\"1\" class=\"dataframe\">\n",
       "  <thead>\n",
       "    <tr style=\"text-align: right;\">\n",
       "      <th></th>\n",
       "      <th>sample</th>\n",
       "      <th>TR</th>\n",
       "      <th>SR</th>\n",
       "      <th>LB</th>\n",
       "      <th>UB</th>\n",
       "      <th>OK</th>\n",
       "    </tr>\n",
       "  </thead>\n",
       "  <tbody>\n",
       "    <tr>\n",
       "      <th>0</th>\n",
       "      <td>oot 🟢</td>\n",
       "      <td>0.2365</td>\n",
       "      <td>0.2349</td>\n",
       "      <td>0.2331</td>\n",
       "      <td>0.2366</td>\n",
       "      <td>True</td>\n",
       "    </tr>\n",
       "  </tbody>\n",
       "</table>\n",
       "</div>"
      ],
      "text/plain": [
       "  sample      TR      SR      LB      UB    OK\n",
       "0  oot 🟢  0.2365  0.2349  0.2331  0.2366  True"
      ]
     },
     "execution_count": 94,
     "metadata": {},
     "output_type": "execute_result"
    }
   ],
   "source": [
    "calibration_res = []\n",
    "v = dfs_woe[\"oot\"]\n",
    "s = v[v[\"target\"] != -1]\n",
    "y_true = s[\"target\"].values\n",
    "y_score = lr.predict(s[\"score\"].values.reshape(-1, 1))\n",
    "\n",
    "lb, ub = [x / len(s) for x in ss.binom.interval(n=len(s), p=y_score.mean(), alpha=0.95)]\n",
    "calibration_res.append(\n",
    "    {\n",
    "        \"sample\": \"oot\",\n",
    "        \"TR\": y_true.mean(),\n",
    "        \"SR\": y_score.mean(),\n",
    "        \"LB\": lb,\n",
    "        \"UB\": ub,\n",
    "        \"OK\": lb <= y_true.mean() <= ub,\n",
    "    }\n",
    ")\n",
    "calibration_res = pd.DataFrame(calibration_res).round(4)\n",
    "calibration_res[\"sample\"] = [\n",
    "    x + (\" 🟢\" if y else \" 🔴\") for x, y in zip(calibration_res[\"sample\"].values, calibration_res[\"OK\"].values)\n",
    "]\n",
    "calibration_res"
   ]
  },
  {
   "cell_type": "code",
   "execution_count": 86,
   "id": "6cf293a4-d395-4779-b0ee-7983e6b7c805",
   "metadata": {
    "execution": {
     "iopub.execute_input": "2022-06-18T21:43:40.387868Z",
     "iopub.status.busy": "2022-06-18T21:43:40.387405Z",
     "iopub.status.idle": "2022-06-18T21:43:40.457839Z",
     "shell.execute_reply": "2022-06-18T21:43:40.457380Z",
     "shell.execute_reply.started": "2022-06-18T21:43:40.387844Z"
    },
    "tags": []
   },
   "outputs": [
    {
     "data": {
      "text/plain": [
       "(array([1.17575344]), 0.02065090102185385)"
      ]
     },
     "execution_count": 86,
     "metadata": {},
     "output_type": "execute_result"
    }
   ],
   "source": [
    "df = dfs_catboost[\"oos\"]\n",
    "df = df[(df[\"issue_d\"].dt.year == 2016) & (df[\"issue_d\"].dt.month > 2)]\n",
    "lr = LinearRegression()\n",
    "lr.fit(df[\"score\"].values.reshape(-1, 1), df[\"target\"])\n",
    "lr.coef_, lr.intercept_"
   ]
  },
  {
   "cell_type": "code",
   "execution_count": 87,
   "id": "1fad483b-aed8-4055-8257-24724af0f075",
   "metadata": {
    "execution": {
     "iopub.execute_input": "2022-06-18T21:43:40.777706Z",
     "iopub.status.busy": "2022-06-18T21:43:40.777238Z",
     "iopub.status.idle": "2022-06-18T21:43:40.782538Z",
     "shell.execute_reply": "2022-06-18T21:43:40.782091Z",
     "shell.execute_reply.started": "2022-06-18T21:43:40.777683Z"
    },
    "tags": []
   },
   "outputs": [
    {
     "data": {
      "text/plain": [
       "(0.2479012062691614, 0.24790120626916134)"
      ]
     },
     "execution_count": 87,
     "metadata": {},
     "output_type": "execute_result"
    }
   ],
   "source": [
    "lr.predict(df[\"score\"].values.reshape(-1, 1)).mean(), df[\"target\"].mean()"
   ]
  },
  {
   "cell_type": "code",
   "execution_count": 88,
   "id": "68c8fda3-ab9a-410d-aaa3-b40bc54e0afd",
   "metadata": {
    "execution": {
     "iopub.execute_input": "2022-06-18T21:43:41.052473Z",
     "iopub.status.busy": "2022-06-18T21:43:41.051625Z",
     "iopub.status.idle": "2022-06-18T21:43:41.128274Z",
     "shell.execute_reply": "2022-06-18T21:43:41.127796Z",
     "shell.execute_reply.started": "2022-06-18T21:43:41.052447Z"
    },
    "tags": []
   },
   "outputs": [
    {
     "data": {
      "text/html": [
       "<div>\n",
       "<style scoped>\n",
       "    .dataframe tbody tr th:only-of-type {\n",
       "        vertical-align: middle;\n",
       "    }\n",
       "\n",
       "    .dataframe tbody tr th {\n",
       "        vertical-align: top;\n",
       "    }\n",
       "\n",
       "    .dataframe thead th {\n",
       "        text-align: right;\n",
       "    }\n",
       "</style>\n",
       "<table border=\"1\" class=\"dataframe\">\n",
       "  <thead>\n",
       "    <tr style=\"text-align: right;\">\n",
       "      <th></th>\n",
       "      <th>sample</th>\n",
       "      <th>TR</th>\n",
       "      <th>SR</th>\n",
       "      <th>LB</th>\n",
       "      <th>UB</th>\n",
       "      <th>OK</th>\n",
       "    </tr>\n",
       "  </thead>\n",
       "  <tbody>\n",
       "    <tr>\n",
       "      <th>0</th>\n",
       "      <td>oot 🟢</td>\n",
       "      <td>0.2365</td>\n",
       "      <td>0.2382</td>\n",
       "      <td>0.2364</td>\n",
       "      <td>0.2399</td>\n",
       "      <td>True</td>\n",
       "    </tr>\n",
       "  </tbody>\n",
       "</table>\n",
       "</div>"
      ],
      "text/plain": [
       "  sample      TR      SR      LB      UB    OK\n",
       "0  oot 🟢  0.2365  0.2382  0.2364  0.2399  True"
      ]
     },
     "execution_count": 88,
     "metadata": {},
     "output_type": "execute_result"
    }
   ],
   "source": [
    "calibration_res = []\n",
    "v = dfs_catboost[\"oot\"]\n",
    "s = v[v[\"target\"] != -1]\n",
    "y_true = s[\"target\"].values\n",
    "y_score = lr.predict(s[\"score\"].values.reshape(-1, 1))\n",
    "\n",
    "lb, ub = [x / len(s) for x in ss.binom.interval(n=len(s), p=y_score.mean(), alpha=0.95)]\n",
    "calibration_res.append(\n",
    "    {\n",
    "        \"sample\": \"oot\",\n",
    "        \"TR\": y_true.mean(),\n",
    "        \"SR\": y_score.mean(),\n",
    "        \"LB\": lb,\n",
    "        \"UB\": ub,\n",
    "        \"OK\": lb <= y_true.mean() <= ub,\n",
    "    }\n",
    ")\n",
    "calibration_res = pd.DataFrame(calibration_res).round(4)\n",
    "calibration_res[\"sample\"] = [\n",
    "    x + (\" 🟢\" if y else \" 🔴\") for x, y in zip(calibration_res[\"sample\"].values, calibration_res[\"OK\"].values)\n",
    "]\n",
    "calibration_res"
   ]
  },
  {
   "cell_type": "code",
   "execution_count": null,
   "id": "5864a8ec-815f-4b53-9b8f-ef0269111d90",
   "metadata": {},
   "outputs": [],
   "source": []
  }
 ],
 "metadata": {
  "kernelspec": {
   "display_name": "Python 3 (ipykernel)",
   "language": "python",
   "name": "python3"
  },
  "language_info": {
   "codemirror_mode": {
    "name": "ipython",
    "version": 3
   },
   "file_extension": ".py",
   "mimetype": "text/x-python",
   "name": "python",
   "nbconvert_exporter": "python",
   "pygments_lexer": "ipython3",
   "version": "3.8.10"
  }
 },
 "nbformat": 4,
 "nbformat_minor": 5
}
