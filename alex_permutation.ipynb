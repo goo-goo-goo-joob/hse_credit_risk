{
 "cells": [
  {
   "cell_type": "code",
   "execution_count": 1,
   "id": "985117a7-d8b5-4b9e-bd24-c5e2fad9fd3f",
   "metadata": {
    "execution": {
     "iopub.execute_input": "2022-06-08T21:42:54.198708Z",
     "iopub.status.busy": "2022-06-08T21:42:54.198530Z",
     "iopub.status.idle": "2022-06-08T21:42:54.207030Z",
     "shell.execute_reply": "2022-06-08T21:42:54.206608Z",
     "shell.execute_reply.started": "2022-06-08T21:42:54.198654Z"
    },
    "tags": []
   },
   "outputs": [],
   "source": [
    "import setproctitle\n",
    "\n",
    "setproctitle.setproctitle(\"alex_permutation\")"
   ]
  },
  {
   "cell_type": "code",
   "execution_count": 2,
   "id": "7196c916-8d56-4c0d-87ea-fb75f0fd76b5",
   "metadata": {
    "execution": {
     "iopub.execute_input": "2022-06-08T21:42:54.207953Z",
     "iopub.status.busy": "2022-06-08T21:42:54.207683Z",
     "iopub.status.idle": "2022-06-08T21:42:55.635847Z",
     "shell.execute_reply": "2022-06-08T21:42:55.635307Z",
     "shell.execute_reply.started": "2022-06-08T21:42:54.207936Z"
    },
    "tags": []
   },
   "outputs": [],
   "source": [
    "import gc\n",
    "import os\n",
    "import sys\n",
    "import time\n",
    "\n",
    "import catboost\n",
    "import matplotlib.pyplot as plt\n",
    "import numpy as np\n",
    "import pandas as pd\n",
    "from sklearn.linear_model import LogisticRegression\n",
    "from sklearn.metrics import roc_auc_score\n",
    "from sklearn.model_selection import train_test_split\n",
    "from sklearn.preprocessing import LabelEncoder\n",
    "from tqdm.notebook import tqdm\n",
    "\n",
    "tqdm.pandas()"
   ]
  },
  {
   "cell_type": "code",
   "execution_count": 3,
   "id": "53c0eb7e-11e6-4050-b49f-f9110cd75a6a",
   "metadata": {
    "execution": {
     "iopub.execute_input": "2022-06-08T21:42:55.637318Z",
     "iopub.status.busy": "2022-06-08T21:42:55.637107Z",
     "iopub.status.idle": "2022-06-08T21:42:55.640556Z",
     "shell.execute_reply": "2022-06-08T21:42:55.639724Z",
     "shell.execute_reply.started": "2022-06-08T21:42:55.637301Z"
    },
    "tags": []
   },
   "outputs": [],
   "source": [
    "cat_features = [\n",
    "    \"emp_title\",\n",
    "    \"home_ownership\",\n",
    "    \"verification_status\",\n",
    "    \"purpose\",\n",
    "    \"zip_code\",\n",
    "    \"addr_state\",\n",
    "    \"initial_list_status\",\n",
    "    \"application_type\",\n",
    "    \"verification_status_joint\",\n",
    "    \"disbursement_method\",\n",
    "]"
   ]
  },
  {
   "cell_type": "code",
   "execution_count": 4,
   "id": "f1cd3b9d-a6cf-4720-bbf8-32da771e1d72",
   "metadata": {
    "execution": {
     "iopub.execute_input": "2022-06-08T21:42:55.641971Z",
     "iopub.status.busy": "2022-06-08T21:42:55.641745Z",
     "iopub.status.idle": "2022-06-08T21:42:58.908676Z",
     "shell.execute_reply": "2022-06-08T21:42:58.908051Z",
     "shell.execute_reply.started": "2022-06-08T21:42:55.641943Z"
    },
    "tags": []
   },
   "outputs": [],
   "source": [
    "samples = {\n",
    "    k: pd.read_parquet(f\"/home/asciishell/s3/jupyter.asciishell.ru/data_{k}.parquet\") for k in [\"train\", \"oos\", \"oot\"]\n",
    "}"
   ]
  },
  {
   "cell_type": "code",
   "execution_count": 5,
   "id": "91bbe0e9-d066-4b46-9a68-a939f2631337",
   "metadata": {
    "execution": {
     "iopub.execute_input": "2022-06-08T21:42:58.909756Z",
     "iopub.status.busy": "2022-06-08T21:42:58.909553Z",
     "iopub.status.idle": "2022-06-08T21:42:58.917928Z",
     "shell.execute_reply": "2022-06-08T21:42:58.916790Z",
     "shell.execute_reply.started": "2022-06-08T21:42:58.909730Z"
    },
    "tags": []
   },
   "outputs": [],
   "source": [
    "features = sorted(set(samples[\"train\"].columns) - {\"target\", \"issue_d\", \"last_pymnt_d\", \"next_pymnt_d\"})"
   ]
  },
  {
   "cell_type": "code",
   "execution_count": 6,
   "id": "df0b26e5-22ad-4995-b81e-90e80e3ce0c5",
   "metadata": {
    "execution": {
     "iopub.execute_input": "2022-06-08T21:42:58.921012Z",
     "iopub.status.busy": "2022-06-08T21:42:58.919080Z",
     "iopub.status.idle": "2022-06-08T21:43:03.273506Z",
     "shell.execute_reply": "2022-06-08T21:43:03.272825Z",
     "shell.execute_reply.started": "2022-06-08T21:42:58.920968Z"
    },
    "tags": []
   },
   "outputs": [],
   "source": [
    "pools = {\n",
    "    k: catboost.Pool(v[v[\"target\"] != -1][features], v[v[\"target\"] != -1][\"target\"], cat_features=cat_features)\n",
    "    for k, v in samples.items()\n",
    "}\n",
    "# pools['train'].quantize()\n",
    "# pools['train'].save_quantization_borders('borders.dat')\n",
    "# pools['oos'].quantize(input_borders='borders.dat')\n",
    "# pools['oot'].quantize(input_borders='borders.dat')"
   ]
  },
  {
   "cell_type": "code",
   "execution_count": 7,
   "id": "aa84fcd9-7eba-4c05-a922-878e425a7e9e",
   "metadata": {
    "execution": {
     "iopub.execute_input": "2022-06-08T21:43:03.274431Z",
     "iopub.status.busy": "2022-06-08T21:43:03.274291Z",
     "iopub.status.idle": "2022-06-08T21:43:03.277315Z",
     "shell.execute_reply": "2022-06-08T21:43:03.276918Z",
     "shell.execute_reply.started": "2022-06-08T21:43:03.274416Z"
    },
    "tags": []
   },
   "outputs": [],
   "source": [
    "params = {\n",
    "    \"iterations\": 400,\n",
    "    \"max_depth\": 4,\n",
    "    \"learning_rate\": 0.1,\n",
    "    \"rsm\": 0.7,\n",
    "    \"od_wait\": 100,\n",
    "    \"use_best_model\": True,\n",
    "    \"eval_metric\": \"AUC:hints=skip_train~false\",\n",
    "    \"logging_level\": \"Silent\",\n",
    "}"
   ]
  },
  {
   "cell_type": "markdown",
   "id": "8a3ba34c-5da9-45e3-832a-4beb45fc0121",
   "metadata": {
    "execution": {
     "iopub.execute_input": "2022-06-08T20:17:14.648938Z",
     "iopub.status.busy": "2022-06-08T20:17:14.648503Z",
     "iopub.status.idle": "2022-06-08T20:17:14.651216Z",
     "shell.execute_reply": "2022-06-08T20:17:14.650710Z",
     "shell.execute_reply.started": "2022-06-08T20:17:14.648917Z"
    }
   },
   "source": [
    "# Train some model"
   ]
  },
  {
   "cell_type": "code",
   "execution_count": 8,
   "id": "6bfdb7f8-9189-4614-8118-02afcdfebec5",
   "metadata": {
    "execution": {
     "iopub.execute_input": "2022-06-08T21:43:03.278216Z",
     "iopub.status.busy": "2022-06-08T21:43:03.277925Z",
     "iopub.status.idle": "2022-06-08T21:45:02.946702Z",
     "shell.execute_reply": "2022-06-08T21:45:02.945892Z",
     "shell.execute_reply.started": "2022-06-08T21:43:03.278199Z"
    },
    "tags": []
   },
   "outputs": [
    {
     "data": {
      "application/vnd.jupyter.widget-view+json": {
       "model_id": "90d00e51b557428c8f437393d9e50ecb",
       "version_major": 2,
       "version_minor": 0
      },
      "text/plain": [
       "MetricVisualizer(layout=Layout(align_self='stretch', height='500px'))"
      ]
     },
     "metadata": {},
     "output_type": "display_data"
    },
    {
     "data": {
      "text/plain": [
       "<catboost.core.CatBoostClassifier at 0x7ff3502f9670>"
      ]
     },
     "execution_count": 8,
     "metadata": {},
     "output_type": "execute_result"
    }
   ],
   "source": [
    "clf = catboost.CatBoostClassifier(**params)\n",
    "clf.fit(\n",
    "    pools[\"train\"],\n",
    "    eval_set=pools[\"oos\"],\n",
    "    verbose=0,\n",
    "    plot=True,\n",
    ")"
   ]
  },
  {
   "cell_type": "code",
   "execution_count": 9,
   "id": "00cfba73-ee84-4f6d-b3d0-2bbc0b2b6dba",
   "metadata": {
    "execution": {
     "iopub.execute_input": "2022-06-08T21:45:02.948120Z",
     "iopub.status.busy": "2022-06-08T21:45:02.947893Z",
     "iopub.status.idle": "2022-06-08T21:45:02.952525Z",
     "shell.execute_reply": "2022-06-08T21:45:02.951955Z",
     "shell.execute_reply.started": "2022-06-08T21:45:02.948093Z"
    }
   },
   "outputs": [],
   "source": [
    "# Перемешивание колонки для uplift\n",
    "import contextlib\n",
    "\n",
    "\n",
    "@contextlib.contextmanager\n",
    "def column_shuffler(df, col, rs):\n",
    "    orig = df[col].copy()\n",
    "    df[col] = df[col].sample(frac=1, random_state=rs).values\n",
    "    try:\n",
    "        yield df\n",
    "    finally:\n",
    "        df[col] = orig"
   ]
  },
  {
   "cell_type": "code",
   "execution_count": 10,
   "id": "df3dc581-1cd2-4fc4-b2bb-79f990c811c9",
   "metadata": {
    "execution": {
     "iopub.execute_input": "2022-06-08T21:45:02.953934Z",
     "iopub.status.busy": "2022-06-08T21:45:02.953507Z",
     "iopub.status.idle": "2022-06-08T21:46:31.917603Z",
     "shell.execute_reply": "2022-06-08T21:46:31.916866Z",
     "shell.execute_reply.started": "2022-06-08T21:45:02.953903Z"
    },
    "tags": []
   },
   "outputs": [
    {
     "data": {
      "application/vnd.jupyter.widget-view+json": {
       "model_id": "c2b329edb8d649658b693f1b27e384b1",
       "version_major": 2,
       "version_minor": 0
      },
      "text/plain": [
       "  0%|          | 0/62 [00:00<?, ?it/s]"
      ]
     },
     "metadata": {},
     "output_type": "display_data"
    },
    {
     "data": {
      "text/html": [
       "<div>\n",
       "<style scoped>\n",
       "    .dataframe tbody tr th:only-of-type {\n",
       "        vertical-align: middle;\n",
       "    }\n",
       "\n",
       "    .dataframe tbody tr th {\n",
       "        vertical-align: top;\n",
       "    }\n",
       "\n",
       "    .dataframe thead th {\n",
       "        text-align: right;\n",
       "    }\n",
       "</style>\n",
       "<table border=\"1\" class=\"dataframe\">\n",
       "  <thead>\n",
       "    <tr style=\"text-align: right;\">\n",
       "      <th></th>\n",
       "      <th>feature</th>\n",
       "      <th>imp</th>\n",
       "    </tr>\n",
       "  </thead>\n",
       "  <tbody>\n",
       "    <tr>\n",
       "      <th>0</th>\n",
       "      <td>int_rate</td>\n",
       "      <td>0.676174</td>\n",
       "    </tr>\n",
       "    <tr>\n",
       "      <th>1</th>\n",
       "      <td>term</td>\n",
       "      <td>0.701812</td>\n",
       "    </tr>\n",
       "    <tr>\n",
       "      <th>2</th>\n",
       "      <td>emp_title</td>\n",
       "      <td>0.723821</td>\n",
       "    </tr>\n",
       "    <tr>\n",
       "      <th>3</th>\n",
       "      <td>dti</td>\n",
       "      <td>0.727446</td>\n",
       "    </tr>\n",
       "    <tr>\n",
       "      <th>4</th>\n",
       "      <td>home_ownership</td>\n",
       "      <td>0.728288</td>\n",
       "    </tr>\n",
       "    <tr>\n",
       "      <th>...</th>\n",
       "      <td>...</td>\n",
       "      <td>...</td>\n",
       "    </tr>\n",
       "    <tr>\n",
       "      <th>57</th>\n",
       "      <td>application_type</td>\n",
       "      <td>0.732869</td>\n",
       "    </tr>\n",
       "    <tr>\n",
       "      <th>58</th>\n",
       "      <td>sec_app_mort_acc</td>\n",
       "      <td>0.732869</td>\n",
       "    </tr>\n",
       "    <tr>\n",
       "      <th>59</th>\n",
       "      <td>sec_app_open_acc</td>\n",
       "      <td>0.732869</td>\n",
       "    </tr>\n",
       "    <tr>\n",
       "      <th>60</th>\n",
       "      <td>tax_liens</td>\n",
       "      <td>0.732870</td>\n",
       "    </tr>\n",
       "    <tr>\n",
       "      <th>61</th>\n",
       "      <td>fraq_annual_inc</td>\n",
       "      <td>0.732873</td>\n",
       "    </tr>\n",
       "  </tbody>\n",
       "</table>\n",
       "<p>62 rows × 2 columns</p>\n",
       "</div>"
      ],
      "text/plain": [
       "             feature       imp\n",
       "0           int_rate  0.676174\n",
       "1               term  0.701812\n",
       "2          emp_title  0.723821\n",
       "3                dti  0.727446\n",
       "4     home_ownership  0.728288\n",
       "..               ...       ...\n",
       "57  application_type  0.732869\n",
       "58  sec_app_mort_acc  0.732869\n",
       "59  sec_app_open_acc  0.732869\n",
       "60         tax_liens  0.732870\n",
       "61   fraq_annual_inc  0.732873\n",
       "\n",
       "[62 rows x 2 columns]"
      ]
     },
     "execution_count": 10,
     "metadata": {},
     "output_type": "execute_result"
    }
   ],
   "source": [
    "x = samples['oos'][samples['oos']['target'] != -1].copy()\n",
    "imp = []\n",
    "for i, f in enumerate(tqdm(features)):\n",
    "    with column_shuffler(x, f, 42) as dfs:\n",
    "        proba = clf.predict_proba(dfs[features])[:, 1]\n",
    "        imp.append({\n",
    "            'feature': f,\n",
    "            'imp': roc_auc_score(dfs['target'], proba)\n",
    "        })\n",
    "imp = pd.DataFrame(imp).sort_values('imp').reset_index(drop=True)\n",
    "imp"
   ]
  },
  {
   "cell_type": "code",
   "execution_count": null,
   "id": "19c49d75-ef6c-43d2-a60c-30e7351cc974",
   "metadata": {
    "execution": {
     "iopub.execute_input": "2022-06-08T21:58:45.528945Z",
     "iopub.status.busy": "2022-06-08T21:58:45.528417Z"
    },
    "tags": []
   },
   "outputs": [
    {
     "data": {
      "application/vnd.jupyter.widget-view+json": {
       "model_id": "1134899199244d1d950c132a77dbbcc6",
       "version_major": 2,
       "version_minor": 0
      },
      "text/plain": [
       "  0%|          | 0/20 [00:00<?, ?it/s]"
      ]
     },
     "metadata": {},
     "output_type": "display_data"
    }
   ],
   "source": [
    "uplift = []\n",
    "for thr in tqdm(sorted(set(np.percentile(imp[\"imp\"], np.linspace(0, 1, 20))))):\n",
    "    features2 = imp[imp[\"imp\"] >= thr][\"feature\"]\n",
    "    pools2 = {\n",
    "        k: catboost.Pool(v[v[\"target\"] != -1][features2], v[v[\"target\"] != -1][\"target\"], cat_features=cat_features)\n",
    "        for k, v in samples.items()\n",
    "    }\n",
    "    clf = catboost.CatBoostClassifier(**params)\n",
    "    clf.fit(pools2[\"train\"], eval_set=pools2[\"oos\"], verbose=0, plot=False)\n",
    "\n",
    "    x = samples[\"train\"][samples[\"train\"][\"target\"] != -1]\n",
    "    proba = clf.predict_proba(x[features2])[:, 1]\n",
    "    mtrain = roc_auc_score(x[\"target\"], proba)\n",
    "\n",
    "    x = samples[\"oos\"][samples[\"oos\"][\"target\"] != -1]\n",
    "    proba = clf.predict_proba(x[features2])[:, 1]\n",
    "    moos = roc_auc_score(x[\"target\"], proba)\n",
    "\n",
    "    uplift.append(\n",
    "        {\n",
    "            \"columns\": len(features2),\n",
    "            \"features\": features2,\n",
    "            \"train_score\": mtrain,\n",
    "            \"test_score\": moos,\n",
    "        }\n",
    "    )\n",
    "uplift = pd.DataFrame(uplift)\n",
    "uplift"
   ]
  },
  {
   "cell_type": "code",
   "execution_count": null,
   "id": "537c28f3-125b-41c0-8c41-5ccc3ce193e9",
   "metadata": {},
   "outputs": [],
   "source": [
    "data = pd.DataFrame({'true': y_true, 'score': y_score})\n",
    "x = data.assign(q=pd.qcut(data['score'], q=7, duplicates='drop')).groupby('q').agg('mean')\n",
    "xi = np.arange(len(x))\n",
    "plt.figure(figsize=(20, 7), facecolor='w')\n",
    "plt.plot(xi, x['true'].values, label='True')\n",
    "plt.plot(xi, x['score'].values, label='Score')\n",
    "plt.xticks(xi, x.index, rotation=45)\n",
    "\n",
    "plt.xlabel('Бин предсказания')\n",
    "plt.ylabel('Target rate')\n",
    "plt.title('Динамика TR от бина')\n",
    "plt.grid()\n",
    "plt.legend()"
   ]
  },
  {
   "cell_type": "code",
   "execution_count": null,
   "id": "b1bc3978-a293-4439-be24-ab3b29f9f79c",
   "metadata": {},
   "outputs": [],
   "source": []
  }
 ],
 "metadata": {
  "kernelspec": {
   "display_name": "Python 3 (ipykernel)",
   "language": "python",
   "name": "python3"
  },
  "language_info": {
   "codemirror_mode": {
    "name": "ipython",
    "version": 3
   },
   "file_extension": ".py",
   "mimetype": "text/x-python",
   "name": "python",
   "nbconvert_exporter": "python",
   "pygments_lexer": "ipython3",
   "version": "3.8.10"
  }
 },
 "nbformat": 4,
 "nbformat_minor": 5
}
