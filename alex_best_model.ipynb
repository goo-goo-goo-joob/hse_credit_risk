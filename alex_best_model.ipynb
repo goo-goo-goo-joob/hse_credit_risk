{
 "cells": [
  {
   "cell_type": "code",
   "execution_count": 44,
   "id": "985117a7-d8b5-4b9e-bd24-c5e2fad9fd3f",
   "metadata": {
    "execution": {
     "iopub.execute_input": "2022-06-08T21:20:54.317832Z",
     "iopub.status.busy": "2022-06-08T21:20:54.317515Z",
     "iopub.status.idle": "2022-06-08T21:20:54.319927Z",
     "shell.execute_reply": "2022-06-08T21:20:54.319570Z",
     "shell.execute_reply.started": "2022-06-08T21:20:54.317815Z"
    },
    "tags": []
   },
   "outputs": [],
   "source": [
    "import setproctitle\n",
    "\n",
    "setproctitle.setproctitle(\"alex_best_model\")"
   ]
  },
  {
   "cell_type": "code",
   "execution_count": 45,
   "id": "7196c916-8d56-4c0d-87ea-fb75f0fd76b5",
   "metadata": {
    "execution": {
     "iopub.execute_input": "2022-06-08T21:20:55.116759Z",
     "iopub.status.busy": "2022-06-08T21:20:55.116197Z",
     "iopub.status.idle": "2022-06-08T21:20:55.120263Z",
     "shell.execute_reply": "2022-06-08T21:20:55.119856Z",
     "shell.execute_reply.started": "2022-06-08T21:20:55.116717Z"
    },
    "tags": []
   },
   "outputs": [],
   "source": [
    "import gc\n",
    "import os\n",
    "import sys\n",
    "import time\n",
    "\n",
    "import catboost\n",
    "import matplotlib.pyplot as plt\n",
    "import numpy as np\n",
    "import optuna\n",
    "import pandas as pd\n",
    "from sklearn.linear_model import LogisticRegression\n",
    "from sklearn.metrics import roc_auc_score\n",
    "from sklearn.model_selection import train_test_split\n",
    "from sklearn.preprocessing import LabelEncoder\n",
    "from tqdm.notebook import tqdm\n",
    "\n",
    "tqdm.pandas()"
   ]
  },
  {
   "cell_type": "code",
   "execution_count": 3,
   "id": "53c0eb7e-11e6-4050-b49f-f9110cd75a6a",
   "metadata": {
    "execution": {
     "iopub.execute_input": "2022-06-08T20:12:05.508585Z",
     "iopub.status.busy": "2022-06-08T20:12:05.508190Z",
     "iopub.status.idle": "2022-06-08T20:12:05.511292Z",
     "shell.execute_reply": "2022-06-08T20:12:05.510908Z",
     "shell.execute_reply.started": "2022-06-08T20:12:05.508563Z"
    }
   },
   "outputs": [],
   "source": [
    "cat_features = [\n",
    "    \"emp_title\",\n",
    "    \"home_ownership\",\n",
    "    \"verification_status\",\n",
    "    \"purpose\",\n",
    "    \"zip_code\",\n",
    "    \"addr_state\",\n",
    "    \"initial_list_status\",\n",
    "    \"application_type\",\n",
    "    \"verification_status_joint\",\n",
    "    \"disbursement_method\",\n",
    "]"
   ]
  },
  {
   "cell_type": "code",
   "execution_count": 62,
   "id": "f1cd3b9d-a6cf-4720-bbf8-32da771e1d72",
   "metadata": {
    "execution": {
     "iopub.execute_input": "2022-06-08T21:49:24.007575Z",
     "iopub.status.busy": "2022-06-08T21:49:24.007121Z",
     "iopub.status.idle": "2022-06-08T21:49:26.997751Z",
     "shell.execute_reply": "2022-06-08T21:49:26.997243Z",
     "shell.execute_reply.started": "2022-06-08T21:49:24.007553Z"
    },
    "tags": []
   },
   "outputs": [],
   "source": [
    "samples = {\n",
    "    k: pd.read_parquet(f\"/home/asciishell/s3/jupyter.asciishell.ru/data_{k}.parquet\") for k in [\"train\", \"oos\", \"oot\"]\n",
    "}"
   ]
  },
  {
   "cell_type": "code",
   "execution_count": 63,
   "id": "91bbe0e9-d066-4b46-9a68-a939f2631337",
   "metadata": {
    "execution": {
     "iopub.execute_input": "2022-06-08T21:49:26.999091Z",
     "iopub.status.busy": "2022-06-08T21:49:26.998806Z",
     "iopub.status.idle": "2022-06-08T21:49:27.001843Z",
     "shell.execute_reply": "2022-06-08T21:49:27.001444Z",
     "shell.execute_reply.started": "2022-06-08T21:49:26.999070Z"
    },
    "tags": []
   },
   "outputs": [],
   "source": [
    "features = sorted(set(samples[\"train\"].columns) - {\"target\", \"issue_d\", \"last_pymnt_d\", \"next_pymnt_d\",\n",
    "                                                  \"int_rate\", \"term\", \"installment\", \"funded_amnt\", \"loan_amnt\",\"dti\"\n",
    "                                                  })"
   ]
  },
  {
   "cell_type": "code",
   "execution_count": 64,
   "id": "df0b26e5-22ad-4995-b81e-90e80e3ce0c5",
   "metadata": {
    "execution": {
     "iopub.execute_input": "2022-06-08T21:49:27.986168Z",
     "iopub.status.busy": "2022-06-08T21:49:27.985611Z",
     "iopub.status.idle": "2022-06-08T21:49:31.388564Z",
     "shell.execute_reply": "2022-06-08T21:49:31.388077Z",
     "shell.execute_reply.started": "2022-06-08T21:49:27.986147Z"
    },
    "tags": []
   },
   "outputs": [],
   "source": [
    "pools = {\n",
    "    k: catboost.Pool(v[v[\"target\"] != -1][features], v[v[\"target\"] != -1][\"target\"], cat_features=cat_features)\n",
    "    for k, v in samples.items()\n",
    "}\n",
    "# pools['train'].quantize()\n",
    "# pools['train'].save_quantization_borders('borders.dat')\n",
    "# pools['oos'].quantize(input_borders='borders.dat')\n",
    "# pools['oot'].quantize(input_borders='borders.dat')"
   ]
  },
  {
   "cell_type": "markdown",
   "id": "8a3ba34c-5da9-45e3-832a-4beb45fc0121",
   "metadata": {
    "execution": {
     "iopub.execute_input": "2022-06-08T20:17:14.648938Z",
     "iopub.status.busy": "2022-06-08T20:17:14.648503Z",
     "iopub.status.idle": "2022-06-08T20:17:14.651216Z",
     "shell.execute_reply": "2022-06-08T20:17:14.650710Z",
     "shell.execute_reply.started": "2022-06-08T20:17:14.648917Z"
    }
   },
   "source": [
    "# Train best model"
   ]
  },
  {
   "cell_type": "code",
   "execution_count": 65,
   "id": "6bfdb7f8-9189-4614-8118-02afcdfebec5",
   "metadata": {
    "execution": {
     "iopub.execute_input": "2022-06-08T21:49:34.819840Z",
     "iopub.status.busy": "2022-06-08T21:49:34.819490Z",
     "iopub.status.idle": "2022-06-08T22:09:31.168295Z",
     "shell.execute_reply": "2022-06-08T22:09:31.167801Z",
     "shell.execute_reply.started": "2022-06-08T21:49:34.819819Z"
    },
    "tags": []
   },
   "outputs": [
    {
     "data": {
      "application/vnd.jupyter.widget-view+json": {
       "model_id": "ac1c1029716248a881484a24178db216",
       "version_major": 2,
       "version_minor": 0
      },
      "text/plain": [
       "MetricVisualizer(layout=Layout(align_self='stretch', height='500px'))"
      ]
     },
     "metadata": {},
     "output_type": "display_data"
    },
    {
     "data": {
      "application/vnd.plotly.v1+json": {
       "config": {
        "plotlyServerURL": "https://plot.ly"
       },
       "data": [
        {
         "line": {
          "color": "rgb(51,160,44)"
         },
         "mode": "lines+markers",
         "name": "",
         "text": [
          "",
          "application_type",
          "policy_code",
          "revol_bal_joint",
          "sec_app_earliest_cr_line",
          "sec_app_fico_range_high",
          "sec_app_fico_range_low",
          "fraq_annual_inc",
          "sec_app_mort_acc",
          "sec_app_num_rev_accts",
          "sec_app_open_acc",
          "verification_status_joint",
          "tax_liens",
          "dti_joint",
          "num_bc_tl",
          "disbursement_method",
          "pub_rec",
          "initial_list_status",
          "total_cu_tl",
          "num_il_tl",
          "tot_hi_cred_lim",
          "num_op_rev_tl",
          "tot_coll_amt",
          "annual_inc_joint",
          "pub_rec_bankruptcies",
          "desc",
          "num_rev_accts",
          "num_sats",
          "pct_tl_nvr_dlq",
          "revol_util",
          "total_il_high_credit_limit",
          "percent_bc_gt_75",
          "earliest_cr_line",
          "open_acc",
          "total_rev_hi_lim",
          "emp_length",
          "addr_state"
         ],
         "type": "scatter",
         "x": [
          0,
          1,
          2,
          3,
          4,
          5,
          6,
          7,
          8,
          9,
          10,
          11,
          12,
          13,
          14,
          15,
          16,
          17,
          18,
          19,
          20,
          21,
          22,
          23,
          24,
          25,
          26,
          27,
          28,
          29,
          30,
          31,
          32,
          33,
          34,
          35,
          36
         ],
         "y": [
          0.45723308289928544,
          0.4572390915875682,
          0.45724510027585097,
          0.45725110896413373,
          0.4572571176524165,
          0.45726312634069927,
          0.4572724412316181,
          0.4572817561225369,
          0.45729107101345573,
          0.45730038590437455,
          0.4573097007952934,
          0.4573097007952931,
          0.4573097007952931,
          0.45730461142020906,
          0.4572401414468172,
          0.45716953711763886,
          0.45717841175603163,
          0.4571882882040355,
          0.4572000175864045,
          0.45721273228265097,
          0.45726509459698583,
          0.4573144137284276,
          0.45737560520058684,
          0.4574402837957193,
          0.4574576584869109,
          0.45747557330075805,
          0.4574932293764328,
          0.457472364343515,
          0.45743403363101093,
          0.4573881220253819,
          0.4575613875578333,
          0.45777632335859253,
          0.4577824293247313,
          0.45778797120824016,
          0.4577939795491385,
          0.4579683387942741,
          0.45819166143325
         ]
        },
        {
         "marker": {
          "size": 10,
          "symbol": "square"
         },
         "mode": "markers",
         "name": "",
         "text": [
          "",
          "sec_app_fico_range_high",
          "sec_app_open_acc",
          "disbursement_method",
          "num_il_tl",
          "annual_inc_joint",
          "num_rev_accts",
          "revol_util",
          "percent_bc_gt_75",
          "total_rev_hi_lim"
         ],
         "type": "scatter",
         "x": [
          0,
          5,
          10,
          15,
          19,
          23,
          26,
          29,
          31,
          34
         ],
         "y": [
          0.45723308289928544,
          0.45726312634069927,
          0.4573097007952934,
          0.45716953711763886,
          0.45721273228265097,
          0.4574402837957193,
          0.4574932293764328,
          0.4573881220253819,
          0.45777632335859253,
          0.4577939795491385
         ]
        },
        {
         "mode": "text",
         "name": "",
         "text": [
          "",
          "4",
          "32",
          "37",
          "39",
          "40",
          "41",
          "15",
          "42",
          "43",
          "44",
          "54",
          "45",
          "9",
          "23",
          "8",
          "33",
          "18",
          "50",
          "24",
          "47",
          "25",
          "46",
          "3",
          "34",
          "7",
          "26",
          "28",
          "30",
          "38",
          "51",
          "31",
          "10",
          "29",
          "52",
          "11",
          "0"
         ],
         "textfont": {
          "color": "rgb(51,160,44)",
          "family": "sans serif",
          "size": 18
         },
         "textposition": "bottom center",
         "type": "scatter",
         "visible": false,
         "x": [
          0,
          1,
          2,
          3,
          4,
          5,
          6,
          7,
          8,
          9,
          10,
          11,
          12,
          13,
          14,
          15,
          16,
          17,
          18,
          19,
          20,
          21,
          22,
          23,
          24,
          25,
          26,
          27,
          28,
          29,
          30,
          31,
          32,
          33,
          34,
          35,
          36
         ],
         "y": [
          0.45723308289928544,
          0.4572390915875682,
          0.45724510027585097,
          0.45725110896413373,
          0.4572571176524165,
          0.45726312634069927,
          0.4572724412316181,
          0.4572817561225369,
          0.45729107101345573,
          0.45730038590437455,
          0.4573097007952934,
          0.4573097007952931,
          0.4573097007952931,
          0.45730461142020906,
          0.4572401414468172,
          0.45716953711763886,
          0.45717841175603163,
          0.4571882882040355,
          0.4572000175864045,
          0.45721273228265097,
          0.45726509459698583,
          0.4573144137284276,
          0.45737560520058684,
          0.4574402837957193,
          0.4574576584869109,
          0.45747557330075805,
          0.4574932293764328,
          0.457472364343515,
          0.45743403363101093,
          0.4573881220253819,
          0.4575613875578333,
          0.45777632335859253,
          0.4577824293247313,
          0.45778797120824016,
          0.4577939795491385,
          0.4579683387942741,
          0.45819166143325
         ]
        },
        {
         "mode": "text",
         "name": "",
         "text": [
          "",
          "application_type",
          "policy_code",
          "revol_bal_joint",
          "sec_app_earliest_cr_line",
          "sec_app_fico_range_high",
          "sec_app_fico_range_low",
          "fraq_annual_inc",
          "sec_app_mort_acc",
          "sec_app_num_rev_accts",
          "sec_app_open_acc",
          "verification_status_joint",
          "tax_liens",
          "dti_joint",
          "num_bc_tl",
          "disbursement_method",
          "pub_rec",
          "initial_list_status",
          "total_cu_tl",
          "num_il_tl",
          "tot_hi_cred_lim",
          "num_op_rev_tl",
          "tot_coll_amt",
          "annual_inc_joint",
          "pub_rec_bankruptcies",
          "desc",
          "num_rev_accts",
          "num_sats",
          "pct_tl_nvr_dlq",
          "revol_util",
          "total_il_high_credit_limit",
          "percent_bc_gt_75",
          "earliest_cr_line",
          "open_acc",
          "total_rev_hi_lim",
          "emp_length",
          "addr_state"
         ],
         "textfont": {
          "color": "rgb(51,160,44)",
          "family": "sans serif",
          "size": 18
         },
         "textposition": "bottom center",
         "type": "scatter",
         "visible": false,
         "x": [
          0,
          1,
          2,
          3,
          4,
          5,
          6,
          7,
          8,
          9,
          10,
          11,
          12,
          13,
          14,
          15,
          16,
          17,
          18,
          19,
          20,
          21,
          22,
          23,
          24,
          25,
          26,
          27,
          28,
          29,
          30,
          31,
          32,
          33,
          34,
          35,
          36
         ],
         "y": [
          0.45723308289928544,
          0.4572390915875682,
          0.45724510027585097,
          0.45725110896413373,
          0.4572571176524165,
          0.45726312634069927,
          0.4572724412316181,
          0.4572817561225369,
          0.45729107101345573,
          0.45730038590437455,
          0.4573097007952934,
          0.4573097007952931,
          0.4573097007952931,
          0.45730461142020906,
          0.4572401414468172,
          0.45716953711763886,
          0.45717841175603163,
          0.4571882882040355,
          0.4572000175864045,
          0.45721273228265097,
          0.45726509459698583,
          0.4573144137284276,
          0.45737560520058684,
          0.4574402837957193,
          0.4574576584869109,
          0.45747557330075805,
          0.4574932293764328,
          0.457472364343515,
          0.45743403363101093,
          0.4573881220253819,
          0.4575613875578333,
          0.45777632335859253,
          0.4577824293247313,
          0.45778797120824016,
          0.4577939795491385,
          0.4579683387942741,
          0.45819166143325
         ]
        }
       ],
       "layout": {
        "autosize": true,
        "showlegend": false,
        "template": {
         "data": {
          "bar": [
           {
            "error_x": {
             "color": "#2a3f5f"
            },
            "error_y": {
             "color": "#2a3f5f"
            },
            "marker": {
             "line": {
              "color": "#E5ECF6",
              "width": 0.5
             },
             "pattern": {
              "fillmode": "overlay",
              "size": 10,
              "solidity": 0.2
             }
            },
            "type": "bar"
           }
          ],
          "barpolar": [
           {
            "marker": {
             "line": {
              "color": "#E5ECF6",
              "width": 0.5
             },
             "pattern": {
              "fillmode": "overlay",
              "size": 10,
              "solidity": 0.2
             }
            },
            "type": "barpolar"
           }
          ],
          "carpet": [
           {
            "aaxis": {
             "endlinecolor": "#2a3f5f",
             "gridcolor": "white",
             "linecolor": "white",
             "minorgridcolor": "white",
             "startlinecolor": "#2a3f5f"
            },
            "baxis": {
             "endlinecolor": "#2a3f5f",
             "gridcolor": "white",
             "linecolor": "white",
             "minorgridcolor": "white",
             "startlinecolor": "#2a3f5f"
            },
            "type": "carpet"
           }
          ],
          "choropleth": [
           {
            "colorbar": {
             "outlinewidth": 0,
             "ticks": ""
            },
            "type": "choropleth"
           }
          ],
          "contour": [
           {
            "colorbar": {
             "outlinewidth": 0,
             "ticks": ""
            },
            "colorscale": [
             [
              0,
              "#0d0887"
             ],
             [
              0.1111111111111111,
              "#46039f"
             ],
             [
              0.2222222222222222,
              "#7201a8"
             ],
             [
              0.3333333333333333,
              "#9c179e"
             ],
             [
              0.4444444444444444,
              "#bd3786"
             ],
             [
              0.5555555555555556,
              "#d8576b"
             ],
             [
              0.6666666666666666,
              "#ed7953"
             ],
             [
              0.7777777777777778,
              "#fb9f3a"
             ],
             [
              0.8888888888888888,
              "#fdca26"
             ],
             [
              1,
              "#f0f921"
             ]
            ],
            "type": "contour"
           }
          ],
          "contourcarpet": [
           {
            "colorbar": {
             "outlinewidth": 0,
             "ticks": ""
            },
            "type": "contourcarpet"
           }
          ],
          "heatmap": [
           {
            "colorbar": {
             "outlinewidth": 0,
             "ticks": ""
            },
            "colorscale": [
             [
              0,
              "#0d0887"
             ],
             [
              0.1111111111111111,
              "#46039f"
             ],
             [
              0.2222222222222222,
              "#7201a8"
             ],
             [
              0.3333333333333333,
              "#9c179e"
             ],
             [
              0.4444444444444444,
              "#bd3786"
             ],
             [
              0.5555555555555556,
              "#d8576b"
             ],
             [
              0.6666666666666666,
              "#ed7953"
             ],
             [
              0.7777777777777778,
              "#fb9f3a"
             ],
             [
              0.8888888888888888,
              "#fdca26"
             ],
             [
              1,
              "#f0f921"
             ]
            ],
            "type": "heatmap"
           }
          ],
          "heatmapgl": [
           {
            "colorbar": {
             "outlinewidth": 0,
             "ticks": ""
            },
            "colorscale": [
             [
              0,
              "#0d0887"
             ],
             [
              0.1111111111111111,
              "#46039f"
             ],
             [
              0.2222222222222222,
              "#7201a8"
             ],
             [
              0.3333333333333333,
              "#9c179e"
             ],
             [
              0.4444444444444444,
              "#bd3786"
             ],
             [
              0.5555555555555556,
              "#d8576b"
             ],
             [
              0.6666666666666666,
              "#ed7953"
             ],
             [
              0.7777777777777778,
              "#fb9f3a"
             ],
             [
              0.8888888888888888,
              "#fdca26"
             ],
             [
              1,
              "#f0f921"
             ]
            ],
            "type": "heatmapgl"
           }
          ],
          "histogram": [
           {
            "marker": {
             "pattern": {
              "fillmode": "overlay",
              "size": 10,
              "solidity": 0.2
             }
            },
            "type": "histogram"
           }
          ],
          "histogram2d": [
           {
            "colorbar": {
             "outlinewidth": 0,
             "ticks": ""
            },
            "colorscale": [
             [
              0,
              "#0d0887"
             ],
             [
              0.1111111111111111,
              "#46039f"
             ],
             [
              0.2222222222222222,
              "#7201a8"
             ],
             [
              0.3333333333333333,
              "#9c179e"
             ],
             [
              0.4444444444444444,
              "#bd3786"
             ],
             [
              0.5555555555555556,
              "#d8576b"
             ],
             [
              0.6666666666666666,
              "#ed7953"
             ],
             [
              0.7777777777777778,
              "#fb9f3a"
             ],
             [
              0.8888888888888888,
              "#fdca26"
             ],
             [
              1,
              "#f0f921"
             ]
            ],
            "type": "histogram2d"
           }
          ],
          "histogram2dcontour": [
           {
            "colorbar": {
             "outlinewidth": 0,
             "ticks": ""
            },
            "colorscale": [
             [
              0,
              "#0d0887"
             ],
             [
              0.1111111111111111,
              "#46039f"
             ],
             [
              0.2222222222222222,
              "#7201a8"
             ],
             [
              0.3333333333333333,
              "#9c179e"
             ],
             [
              0.4444444444444444,
              "#bd3786"
             ],
             [
              0.5555555555555556,
              "#d8576b"
             ],
             [
              0.6666666666666666,
              "#ed7953"
             ],
             [
              0.7777777777777778,
              "#fb9f3a"
             ],
             [
              0.8888888888888888,
              "#fdca26"
             ],
             [
              1,
              "#f0f921"
             ]
            ],
            "type": "histogram2dcontour"
           }
          ],
          "mesh3d": [
           {
            "colorbar": {
             "outlinewidth": 0,
             "ticks": ""
            },
            "type": "mesh3d"
           }
          ],
          "parcoords": [
           {
            "line": {
             "colorbar": {
              "outlinewidth": 0,
              "ticks": ""
             }
            },
            "type": "parcoords"
           }
          ],
          "pie": [
           {
            "automargin": true,
            "type": "pie"
           }
          ],
          "scatter": [
           {
            "marker": {
             "colorbar": {
              "outlinewidth": 0,
              "ticks": ""
             }
            },
            "type": "scatter"
           }
          ],
          "scatter3d": [
           {
            "line": {
             "colorbar": {
              "outlinewidth": 0,
              "ticks": ""
             }
            },
            "marker": {
             "colorbar": {
              "outlinewidth": 0,
              "ticks": ""
             }
            },
            "type": "scatter3d"
           }
          ],
          "scattercarpet": [
           {
            "marker": {
             "colorbar": {
              "outlinewidth": 0,
              "ticks": ""
             }
            },
            "type": "scattercarpet"
           }
          ],
          "scattergeo": [
           {
            "marker": {
             "colorbar": {
              "outlinewidth": 0,
              "ticks": ""
             }
            },
            "type": "scattergeo"
           }
          ],
          "scattergl": [
           {
            "marker": {
             "colorbar": {
              "outlinewidth": 0,
              "ticks": ""
             }
            },
            "type": "scattergl"
           }
          ],
          "scattermapbox": [
           {
            "marker": {
             "colorbar": {
              "outlinewidth": 0,
              "ticks": ""
             }
            },
            "type": "scattermapbox"
           }
          ],
          "scatterpolar": [
           {
            "marker": {
             "colorbar": {
              "outlinewidth": 0,
              "ticks": ""
             }
            },
            "type": "scatterpolar"
           }
          ],
          "scatterpolargl": [
           {
            "marker": {
             "colorbar": {
              "outlinewidth": 0,
              "ticks": ""
             }
            },
            "type": "scatterpolargl"
           }
          ],
          "scatterternary": [
           {
            "marker": {
             "colorbar": {
              "outlinewidth": 0,
              "ticks": ""
             }
            },
            "type": "scatterternary"
           }
          ],
          "surface": [
           {
            "colorbar": {
             "outlinewidth": 0,
             "ticks": ""
            },
            "colorscale": [
             [
              0,
              "#0d0887"
             ],
             [
              0.1111111111111111,
              "#46039f"
             ],
             [
              0.2222222222222222,
              "#7201a8"
             ],
             [
              0.3333333333333333,
              "#9c179e"
             ],
             [
              0.4444444444444444,
              "#bd3786"
             ],
             [
              0.5555555555555556,
              "#d8576b"
             ],
             [
              0.6666666666666666,
              "#ed7953"
             ],
             [
              0.7777777777777778,
              "#fb9f3a"
             ],
             [
              0.8888888888888888,
              "#fdca26"
             ],
             [
              1,
              "#f0f921"
             ]
            ],
            "type": "surface"
           }
          ],
          "table": [
           {
            "cells": {
             "fill": {
              "color": "#EBF0F8"
             },
             "line": {
              "color": "white"
             }
            },
            "header": {
             "fill": {
              "color": "#C8D4E3"
             },
             "line": {
              "color": "white"
             }
            },
            "type": "table"
           }
          ]
         },
         "layout": {
          "annotationdefaults": {
           "arrowcolor": "#2a3f5f",
           "arrowhead": 0,
           "arrowwidth": 1
          },
          "autotypenumbers": "strict",
          "coloraxis": {
           "colorbar": {
            "outlinewidth": 0,
            "ticks": ""
           }
          },
          "colorscale": {
           "diverging": [
            [
             0,
             "#8e0152"
            ],
            [
             0.1,
             "#c51b7d"
            ],
            [
             0.2,
             "#de77ae"
            ],
            [
             0.3,
             "#f1b6da"
            ],
            [
             0.4,
             "#fde0ef"
            ],
            [
             0.5,
             "#f7f7f7"
            ],
            [
             0.6,
             "#e6f5d0"
            ],
            [
             0.7,
             "#b8e186"
            ],
            [
             0.8,
             "#7fbc41"
            ],
            [
             0.9,
             "#4d9221"
            ],
            [
             1,
             "#276419"
            ]
           ],
           "sequential": [
            [
             0,
             "#0d0887"
            ],
            [
             0.1111111111111111,
             "#46039f"
            ],
            [
             0.2222222222222222,
             "#7201a8"
            ],
            [
             0.3333333333333333,
             "#9c179e"
            ],
            [
             0.4444444444444444,
             "#bd3786"
            ],
            [
             0.5555555555555556,
             "#d8576b"
            ],
            [
             0.6666666666666666,
             "#ed7953"
            ],
            [
             0.7777777777777778,
             "#fb9f3a"
            ],
            [
             0.8888888888888888,
             "#fdca26"
            ],
            [
             1,
             "#f0f921"
            ]
           ],
           "sequentialminus": [
            [
             0,
             "#0d0887"
            ],
            [
             0.1111111111111111,
             "#46039f"
            ],
            [
             0.2222222222222222,
             "#7201a8"
            ],
            [
             0.3333333333333333,
             "#9c179e"
            ],
            [
             0.4444444444444444,
             "#bd3786"
            ],
            [
             0.5555555555555556,
             "#d8576b"
            ],
            [
             0.6666666666666666,
             "#ed7953"
            ],
            [
             0.7777777777777778,
             "#fb9f3a"
            ],
            [
             0.8888888888888888,
             "#fdca26"
            ],
            [
             1,
             "#f0f921"
            ]
           ]
          },
          "colorway": [
           "#636efa",
           "#EF553B",
           "#00cc96",
           "#ab63fa",
           "#FFA15A",
           "#19d3f3",
           "#FF6692",
           "#B6E880",
           "#FF97FF",
           "#FECB52"
          ],
          "font": {
           "color": "#2a3f5f"
          },
          "geo": {
           "bgcolor": "white",
           "lakecolor": "white",
           "landcolor": "#E5ECF6",
           "showlakes": true,
           "showland": true,
           "subunitcolor": "white"
          },
          "hoverlabel": {
           "align": "left"
          },
          "hovermode": "closest",
          "mapbox": {
           "style": "light"
          },
          "paper_bgcolor": "white",
          "plot_bgcolor": "#E5ECF6",
          "polar": {
           "angularaxis": {
            "gridcolor": "white",
            "linecolor": "white",
            "ticks": ""
           },
           "bgcolor": "#E5ECF6",
           "radialaxis": {
            "gridcolor": "white",
            "linecolor": "white",
            "ticks": ""
           }
          },
          "scene": {
           "xaxis": {
            "backgroundcolor": "#E5ECF6",
            "gridcolor": "white",
            "gridwidth": 2,
            "linecolor": "white",
            "showbackground": true,
            "ticks": "",
            "zerolinecolor": "white"
           },
           "yaxis": {
            "backgroundcolor": "#E5ECF6",
            "gridcolor": "white",
            "gridwidth": 2,
            "linecolor": "white",
            "showbackground": true,
            "ticks": "",
            "zerolinecolor": "white"
           },
           "zaxis": {
            "backgroundcolor": "#E5ECF6",
            "gridcolor": "white",
            "gridwidth": 2,
            "linecolor": "white",
            "showbackground": true,
            "ticks": "",
            "zerolinecolor": "white"
           }
          },
          "shapedefaults": {
           "line": {
            "color": "#2a3f5f"
           }
          },
          "ternary": {
           "aaxis": {
            "gridcolor": "white",
            "linecolor": "white",
            "ticks": ""
           },
           "baxis": {
            "gridcolor": "white",
            "linecolor": "white",
            "ticks": ""
           },
           "bgcolor": "#E5ECF6",
           "caxis": {
            "gridcolor": "white",
            "linecolor": "white",
            "ticks": ""
           }
          },
          "title": {
           "x": 0.05
          },
          "xaxis": {
           "automargin": true,
           "gridcolor": "white",
           "linecolor": "white",
           "ticks": "",
           "title": {
            "standoff": 15
           },
           "zerolinecolor": "white",
           "zerolinewidth": 2
          },
          "yaxis": {
           "automargin": true,
           "gridcolor": "white",
           "linecolor": "white",
           "ticks": "",
           "title": {
            "standoff": 15
           },
           "zerolinecolor": "white",
           "zerolinewidth": 2
          }
         }
        },
        "title": {
         "text": "Loss by eliminated features"
        },
        "updatemenus": [
         {
          "active": 0,
          "buttons": [
           {
            "args": [
             {
              "visible": [
               true,
               true,
               false,
               false
              ]
             }
            ],
            "label": "Hide features",
            "method": "update"
           },
           {
            "args": [
             {
              "visible": [
               true,
               true,
               true,
               false
              ]
             }
            ],
            "label": "Show indices",
            "method": "update"
           },
           {
            "args": [
             {
              "visible": [
               true,
               true,
               false,
               true
              ]
             }
            ],
            "label": "Show names",
            "method": "update"
           }
          ],
          "pad": {
           "r": 10,
           "t": 10
          },
          "showactive": true,
          "x": -0.25,
          "xanchor": "left",
          "y": 1.03,
          "yanchor": "top"
         }
        ],
        "xaxis": {
         "autorange": true,
         "gridcolor": "rgb(255,255,255)",
         "range": [
          -2.2758387750506643,
          38.17451024544022
         ],
         "showgrid": true,
         "showline": false,
         "showticklabels": true,
         "tickcolor": "rgb(127,127,127)",
         "ticks": "outside",
         "title": {
          "text": "number of removed features"
         },
         "type": "linear",
         "zeroline": false
        },
        "yaxis": {
         "autorange": true,
         "gridcolor": "rgb(255,255,255)",
         "range": [
          0.45706698846097393,
          0.45827739883472396
         ],
         "showgrid": true,
         "showline": false,
         "showticklabels": true,
         "tickcolor": "rgb(127,127,127)",
         "tickfont": {
          "color": "rgb(51,160,44)"
         },
         "ticks": "outside",
         "title": {
          "font": {
           "color": "rgb(51,160,44)"
          },
          "text": "loss value"
         },
         "type": "linear",
         "zeroline": false
        }
       }
      },
      "image/png": "[encoded data removed]",
      "text/html": [
       "<div>                            <div id=\"7b788a10-711a-4fd6-ab1e-d6d766b19b60\" class=\"plotly-graph-div\" style=\"height:525px; width:100%;\"></div>            <script type=\"text/javascript\">                require([\"plotly\"], function(Plotly) {                    window.PLOTLYENV=window.PLOTLYENV || {};                                    if (document.getElementById(\"7b788a10-711a-4fd6-ab1e-d6d766b19b60\")) {                    Plotly.newPlot(                        \"7b788a10-711a-4fd6-ab1e-d6d766b19b60\",                        [{\"line\":{\"color\":\"rgb(51,160,44)\"},\"mode\":\"lines+markers\",\"name\":\"\",\"text\":[\"\",\"application_type\",\"policy_code\",\"revol_bal_joint\",\"sec_app_earliest_cr_line\",\"sec_app_fico_range_high\",\"sec_app_fico_range_low\",\"fraq_annual_inc\",\"sec_app_mort_acc\",\"sec_app_num_rev_accts\",\"sec_app_open_acc\",\"verification_status_joint\",\"tax_liens\",\"dti_joint\",\"num_bc_tl\",\"disbursement_method\",\"pub_rec\",\"initial_list_status\",\"total_cu_tl\",\"num_il_tl\",\"tot_hi_cred_lim\",\"num_op_rev_tl\",\"tot_coll_amt\",\"annual_inc_joint\",\"pub_rec_bankruptcies\",\"desc\",\"num_rev_accts\",\"num_sats\",\"pct_tl_nvr_dlq\",\"revol_util\",\"total_il_high_credit_limit\",\"percent_bc_gt_75\",\"earliest_cr_line\",\"open_acc\",\"total_rev_hi_lim\",\"emp_length\",\"addr_state\"],\"type\":\"scatter\",\"x\":[0,1,2,3,4,5,6,7,8,9,10,11,12,13,14,15,16,17,18,19,20,21,22,23,24,25,26,27,28,29,30,31,32,33,34,35,36],\"y\":[0.45723308289928544,0.4572390915875682,0.45724510027585097,0.45725110896413373,0.4572571176524165,0.45726312634069927,0.4572724412316181,0.4572817561225369,0.45729107101345573,0.45730038590437455,0.4573097007952934,0.4573097007952931,0.4573097007952931,0.45730461142020906,0.4572401414468172,0.45716953711763886,0.45717841175603163,0.4571882882040355,0.4572000175864045,0.45721273228265097,0.45726509459698583,0.4573144137284276,0.45737560520058684,0.4574402837957193,0.4574576584869109,0.45747557330075805,0.4574932293764328,0.457472364343515,0.45743403363101093,0.4573881220253819,0.4575613875578333,0.45777632335859253,0.4577824293247313,0.45778797120824016,0.4577939795491385,0.4579683387942741,0.45819166143325]},{\"marker\":{\"size\":10,\"symbol\":\"square\"},\"mode\":\"markers\",\"name\":\"\",\"text\":[\"\",\"sec_app_fico_range_high\",\"sec_app_open_acc\",\"disbursement_method\",\"num_il_tl\",\"annual_inc_joint\",\"num_rev_accts\",\"revol_util\",\"percent_bc_gt_75\",\"total_rev_hi_lim\"],\"type\":\"scatter\",\"x\":[0,5,10,15,19,23,26,29,31,34],\"y\":[0.45723308289928544,0.45726312634069927,0.4573097007952934,0.45716953711763886,0.45721273228265097,0.4574402837957193,0.4574932293764328,0.4573881220253819,0.45777632335859253,0.4577939795491385]},{\"mode\":\"text\",\"name\":\"\",\"text\":[\"\",\"4\",\"32\",\"37\",\"39\",\"40\",\"41\",\"15\",\"42\",\"43\",\"44\",\"54\",\"45\",\"9\",\"23\",\"8\",\"33\",\"18\",\"50\",\"24\",\"47\",\"25\",\"46\",\"3\",\"34\",\"7\",\"26\",\"28\",\"30\",\"38\",\"51\",\"31\",\"10\",\"29\",\"52\",\"11\",\"0\"],\"textfont\":{\"color\":\"rgb(51,160,44)\",\"family\":\"sans serif\",\"size\":18},\"textposition\":\"bottom center\",\"type\":\"scatter\",\"visible\":false,\"x\":[0,1,2,3,4,5,6,7,8,9,10,11,12,13,14,15,16,17,18,19,20,21,22,23,24,25,26,27,28,29,30,31,32,33,34,35,36],\"y\":[0.45723308289928544,0.4572390915875682,0.45724510027585097,0.45725110896413373,0.4572571176524165,0.45726312634069927,0.4572724412316181,0.4572817561225369,0.45729107101345573,0.45730038590437455,0.4573097007952934,0.4573097007952931,0.4573097007952931,0.45730461142020906,0.4572401414468172,0.45716953711763886,0.45717841175603163,0.4571882882040355,0.4572000175864045,0.45721273228265097,0.45726509459698583,0.4573144137284276,0.45737560520058684,0.4574402837957193,0.4574576584869109,0.45747557330075805,0.4574932293764328,0.457472364343515,0.45743403363101093,0.4573881220253819,0.4575613875578333,0.45777632335859253,0.4577824293247313,0.45778797120824016,0.4577939795491385,0.4579683387942741,0.45819166143325]},{\"mode\":\"text\",\"name\":\"\",\"text\":[\"\",\"application_type\",\"policy_code\",\"revol_bal_joint\",\"sec_app_earliest_cr_line\",\"sec_app_fico_range_high\",\"sec_app_fico_range_low\",\"fraq_annual_inc\",\"sec_app_mort_acc\",\"sec_app_num_rev_accts\",\"sec_app_open_acc\",\"verification_status_joint\",\"tax_liens\",\"dti_joint\",\"num_bc_tl\",\"disbursement_method\",\"pub_rec\",\"initial_list_status\",\"total_cu_tl\",\"num_il_tl\",\"tot_hi_cred_lim\",\"num_op_rev_tl\",\"tot_coll_amt\",\"annual_inc_joint\",\"pub_rec_bankruptcies\",\"desc\",\"num_rev_accts\",\"num_sats\",\"pct_tl_nvr_dlq\",\"revol_util\",\"total_il_high_credit_limit\",\"percent_bc_gt_75\",\"earliest_cr_line\",\"open_acc\",\"total_rev_hi_lim\",\"emp_length\",\"addr_state\"],\"textfont\":{\"color\":\"rgb(51,160,44)\",\"family\":\"sans serif\",\"size\":18},\"textposition\":\"bottom center\",\"type\":\"scatter\",\"visible\":false,\"x\":[0,1,2,3,4,5,6,7,8,9,10,11,12,13,14,15,16,17,18,19,20,21,22,23,24,25,26,27,28,29,30,31,32,33,34,35,36],\"y\":[0.45723308289928544,0.4572390915875682,0.45724510027585097,0.45725110896413373,0.4572571176524165,0.45726312634069927,0.4572724412316181,0.4572817561225369,0.45729107101345573,0.45730038590437455,0.4573097007952934,0.4573097007952931,0.4573097007952931,0.45730461142020906,0.4572401414468172,0.45716953711763886,0.45717841175603163,0.4571882882040355,0.4572000175864045,0.45721273228265097,0.45726509459698583,0.4573144137284276,0.45737560520058684,0.4574402837957193,0.4574576584869109,0.45747557330075805,0.4574932293764328,0.457472364343515,0.45743403363101093,0.4573881220253819,0.4575613875578333,0.45777632335859253,0.4577824293247313,0.45778797120824016,0.4577939795491385,0.4579683387942741,0.45819166143325]}],                        {\"showlegend\":false,\"template\":{\"data\":{\"bar\":[{\"error_x\":{\"color\":\"#2a3f5f\"},\"error_y\":{\"color\":\"#2a3f5f\"},\"marker\":{\"line\":{\"color\":\"#E5ECF6\",\"width\":0.5},\"pattern\":{\"fillmode\":\"overlay\",\"size\":10,\"solidity\":0.2}},\"type\":\"bar\"}],\"barpolar\":[{\"marker\":{\"line\":{\"color\":\"#E5ECF6\",\"width\":0.5},\"pattern\":{\"fillmode\":\"overlay\",\"size\":10,\"solidity\":0.2}},\"type\":\"barpolar\"}],\"carpet\":[{\"aaxis\":{\"endlinecolor\":\"#2a3f5f\",\"gridcolor\":\"white\",\"linecolor\":\"white\",\"minorgridcolor\":\"white\",\"startlinecolor\":\"#2a3f5f\"},\"baxis\":{\"endlinecolor\":\"#2a3f5f\",\"gridcolor\":\"white\",\"linecolor\":\"white\",\"minorgridcolor\":\"white\",\"startlinecolor\":\"#2a3f5f\"},\"type\":\"carpet\"}],\"choropleth\":[{\"colorbar\":{\"outlinewidth\":0,\"ticks\":\"\"},\"type\":\"choropleth\"}],\"contour\":[{\"colorbar\":{\"outlinewidth\":0,\"ticks\":\"\"},\"colorscale\":[[0.0,\"#0d0887\"],[0.1111111111111111,\"#46039f\"],[0.2222222222222222,\"#7201a8\"],[0.3333333333333333,\"#9c179e\"],[0.4444444444444444,\"#bd3786\"],[0.5555555555555556,\"#d8576b\"],[0.6666666666666666,\"#ed7953\"],[0.7777777777777778,\"#fb9f3a\"],[0.8888888888888888,\"#fdca26\"],[1.0,\"#f0f921\"]],\"type\":\"contour\"}],\"contourcarpet\":[{\"colorbar\":{\"outlinewidth\":0,\"ticks\":\"\"},\"type\":\"contourcarpet\"}],\"heatmap\":[{\"colorbar\":{\"outlinewidth\":0,\"ticks\":\"\"},\"colorscale\":[[0.0,\"#0d0887\"],[0.1111111111111111,\"#46039f\"],[0.2222222222222222,\"#7201a8\"],[0.3333333333333333,\"#9c179e\"],[0.4444444444444444,\"#bd3786\"],[0.5555555555555556,\"#d8576b\"],[0.6666666666666666,\"#ed7953\"],[0.7777777777777778,\"#fb9f3a\"],[0.8888888888888888,\"#fdca26\"],[1.0,\"#f0f921\"]],\"type\":\"heatmap\"}],\"heatmapgl\":[{\"colorbar\":{\"outlinewidth\":0,\"ticks\":\"\"},\"colorscale\":[[0.0,\"#0d0887\"],[0.1111111111111111,\"#46039f\"],[0.2222222222222222,\"#7201a8\"],[0.3333333333333333,\"#9c179e\"],[0.4444444444444444,\"#bd3786\"],[0.5555555555555556,\"#d8576b\"],[0.6666666666666666,\"#ed7953\"],[0.7777777777777778,\"#fb9f3a\"],[0.8888888888888888,\"#fdca26\"],[1.0,\"#f0f921\"]],\"type\":\"heatmapgl\"}],\"histogram\":[{\"marker\":{\"pattern\":{\"fillmode\":\"overlay\",\"size\":10,\"solidity\":0.2}},\"type\":\"histogram\"}],\"histogram2d\":[{\"colorbar\":{\"outlinewidth\":0,\"ticks\":\"\"},\"colorscale\":[[0.0,\"#0d0887\"],[0.1111111111111111,\"#46039f\"],[0.2222222222222222,\"#7201a8\"],[0.3333333333333333,\"#9c179e\"],[0.4444444444444444,\"#bd3786\"],[0.5555555555555556,\"#d8576b\"],[0.6666666666666666,\"#ed7953\"],[0.7777777777777778,\"#fb9f3a\"],[0.8888888888888888,\"#fdca26\"],[1.0,\"#f0f921\"]],\"type\":\"histogram2d\"}],\"histogram2dcontour\":[{\"colorbar\":{\"outlinewidth\":0,\"ticks\":\"\"},\"colorscale\":[[0.0,\"#0d0887\"],[0.1111111111111111,\"#46039f\"],[0.2222222222222222,\"#7201a8\"],[0.3333333333333333,\"#9c179e\"],[0.4444444444444444,\"#bd3786\"],[0.5555555555555556,\"#d8576b\"],[0.6666666666666666,\"#ed7953\"],[0.7777777777777778,\"#fb9f3a\"],[0.8888888888888888,\"#fdca26\"],[1.0,\"#f0f921\"]],\"type\":\"histogram2dcontour\"}],\"mesh3d\":[{\"colorbar\":{\"outlinewidth\":0,\"ticks\":\"\"},\"type\":\"mesh3d\"}],\"parcoords\":[{\"line\":{\"colorbar\":{\"outlinewidth\":0,\"ticks\":\"\"}},\"type\":\"parcoords\"}],\"pie\":[{\"automargin\":true,\"type\":\"pie\"}],\"scatter\":[{\"marker\":{\"colorbar\":{\"outlinewidth\":0,\"ticks\":\"\"}},\"type\":\"scatter\"}],\"scatter3d\":[{\"line\":{\"colorbar\":{\"outlinewidth\":0,\"ticks\":\"\"}},\"marker\":{\"colorbar\":{\"outlinewidth\":0,\"ticks\":\"\"}},\"type\":\"scatter3d\"}],\"scattercarpet\":[{\"marker\":{\"colorbar\":{\"outlinewidth\":0,\"ticks\":\"\"}},\"type\":\"scattercarpet\"}],\"scattergeo\":[{\"marker\":{\"colorbar\":{\"outlinewidth\":0,\"ticks\":\"\"}},\"type\":\"scattergeo\"}],\"scattergl\":[{\"marker\":{\"colorbar\":{\"outlinewidth\":0,\"ticks\":\"\"}},\"type\":\"scattergl\"}],\"scattermapbox\":[{\"marker\":{\"colorbar\":{\"outlinewidth\":0,\"ticks\":\"\"}},\"type\":\"scattermapbox\"}],\"scatterpolar\":[{\"marker\":{\"colorbar\":{\"outlinewidth\":0,\"ticks\":\"\"}},\"type\":\"scatterpolar\"}],\"scatterpolargl\":[{\"marker\":{\"colorbar\":{\"outlinewidth\":0,\"ticks\":\"\"}},\"type\":\"scatterpolargl\"}],\"scatterternary\":[{\"marker\":{\"colorbar\":{\"outlinewidth\":0,\"ticks\":\"\"}},\"type\":\"scatterternary\"}],\"surface\":[{\"colorbar\":{\"outlinewidth\":0,\"ticks\":\"\"},\"colorscale\":[[0.0,\"#0d0887\"],[0.1111111111111111,\"#46039f\"],[0.2222222222222222,\"#7201a8\"],[0.3333333333333333,\"#9c179e\"],[0.4444444444444444,\"#bd3786\"],[0.5555555555555556,\"#d8576b\"],[0.6666666666666666,\"#ed7953\"],[0.7777777777777778,\"#fb9f3a\"],[0.8888888888888888,\"#fdca26\"],[1.0,\"#f0f921\"]],\"type\":\"surface\"}],\"table\":[{\"cells\":{\"fill\":{\"color\":\"#EBF0F8\"},\"line\":{\"color\":\"white\"}},\"header\":{\"fill\":{\"color\":\"#C8D4E3\"},\"line\":{\"color\":\"white\"}},\"type\":\"table\"}]},\"layout\":{\"annotationdefaults\":{\"arrowcolor\":\"#2a3f5f\",\"arrowhead\":0,\"arrowwidth\":1},\"autotypenumbers\":\"strict\",\"coloraxis\":{\"colorbar\":{\"outlinewidth\":0,\"ticks\":\"\"}},\"colorscale\":{\"diverging\":[[0,\"#8e0152\"],[0.1,\"#c51b7d\"],[0.2,\"#de77ae\"],[0.3,\"#f1b6da\"],[0.4,\"#fde0ef\"],[0.5,\"#f7f7f7\"],[0.6,\"#e6f5d0\"],[0.7,\"#b8e186\"],[0.8,\"#7fbc41\"],[0.9,\"#4d9221\"],[1,\"#276419\"]],\"sequential\":[[0.0,\"#0d0887\"],[0.1111111111111111,\"#46039f\"],[0.2222222222222222,\"#7201a8\"],[0.3333333333333333,\"#9c179e\"],[0.4444444444444444,\"#bd3786\"],[0.5555555555555556,\"#d8576b\"],[0.6666666666666666,\"#ed7953\"],[0.7777777777777778,\"#fb9f3a\"],[0.8888888888888888,\"#fdca26\"],[1.0,\"#f0f921\"]],\"sequentialminus\":[[0.0,\"#0d0887\"],[0.1111111111111111,\"#46039f\"],[0.2222222222222222,\"#7201a8\"],[0.3333333333333333,\"#9c179e\"],[0.4444444444444444,\"#bd3786\"],[0.5555555555555556,\"#d8576b\"],[0.6666666666666666,\"#ed7953\"],[0.7777777777777778,\"#fb9f3a\"],[0.8888888888888888,\"#fdca26\"],[1.0,\"#f0f921\"]]},\"colorway\":[\"#636efa\",\"#EF553B\",\"#00cc96\",\"#ab63fa\",\"#FFA15A\",\"#19d3f3\",\"#FF6692\",\"#B6E880\",\"#FF97FF\",\"#FECB52\"],\"font\":{\"color\":\"#2a3f5f\"},\"geo\":{\"bgcolor\":\"white\",\"lakecolor\":\"white\",\"landcolor\":\"#E5ECF6\",\"showlakes\":true,\"showland\":true,\"subunitcolor\":\"white\"},\"hoverlabel\":{\"align\":\"left\"},\"hovermode\":\"closest\",\"mapbox\":{\"style\":\"light\"},\"paper_bgcolor\":\"white\",\"plot_bgcolor\":\"#E5ECF6\",\"polar\":{\"angularaxis\":{\"gridcolor\":\"white\",\"linecolor\":\"white\",\"ticks\":\"\"},\"bgcolor\":\"#E5ECF6\",\"radialaxis\":{\"gridcolor\":\"white\",\"linecolor\":\"white\",\"ticks\":\"\"}},\"scene\":{\"xaxis\":{\"backgroundcolor\":\"#E5ECF6\",\"gridcolor\":\"white\",\"gridwidth\":2,\"linecolor\":\"white\",\"showbackground\":true,\"ticks\":\"\",\"zerolinecolor\":\"white\"},\"yaxis\":{\"backgroundcolor\":\"#E5ECF6\",\"gridcolor\":\"white\",\"gridwidth\":2,\"linecolor\":\"white\",\"showbackground\":true,\"ticks\":\"\",\"zerolinecolor\":\"white\"},\"zaxis\":{\"backgroundcolor\":\"#E5ECF6\",\"gridcolor\":\"white\",\"gridwidth\":2,\"linecolor\":\"white\",\"showbackground\":true,\"ticks\":\"\",\"zerolinecolor\":\"white\"}},\"shapedefaults\":{\"line\":{\"color\":\"#2a3f5f\"}},\"ternary\":{\"aaxis\":{\"gridcolor\":\"white\",\"linecolor\":\"white\",\"ticks\":\"\"},\"baxis\":{\"gridcolor\":\"white\",\"linecolor\":\"white\",\"ticks\":\"\"},\"bgcolor\":\"#E5ECF6\",\"caxis\":{\"gridcolor\":\"white\",\"linecolor\":\"white\",\"ticks\":\"\"}},\"title\":{\"x\":0.05},\"xaxis\":{\"automargin\":true,\"gridcolor\":\"white\",\"linecolor\":\"white\",\"ticks\":\"\",\"title\":{\"standoff\":15},\"zerolinecolor\":\"white\",\"zerolinewidth\":2},\"yaxis\":{\"automargin\":true,\"gridcolor\":\"white\",\"linecolor\":\"white\",\"ticks\":\"\",\"title\":{\"standoff\":15},\"zerolinecolor\":\"white\",\"zerolinewidth\":2}}},\"title\":{\"text\":\"Loss by eliminated features\"},\"updatemenus\":[{\"active\":0,\"buttons\":[{\"args\":[{\"visible\":[true,true,false,false]}],\"label\":\"Hide features\",\"method\":\"update\"},{\"args\":[{\"visible\":[true,true,true,false]}],\"label\":\"Show indices\",\"method\":\"update\"},{\"args\":[{\"visible\":[true,true,false,true]}],\"label\":\"Show names\",\"method\":\"update\"}],\"pad\":{\"r\":10,\"t\":10},\"showactive\":true,\"x\":-0.25,\"xanchor\":\"left\",\"y\":1.03,\"yanchor\":\"top\"}],\"xaxis\":{\"gridcolor\":\"rgb(255,255,255)\",\"showgrid\":true,\"showline\":false,\"showticklabels\":true,\"tickcolor\":\"rgb(127,127,127)\",\"ticks\":\"outside\",\"title\":{\"text\":\"number of removed features\"},\"zeroline\":false},\"yaxis\":{\"gridcolor\":\"rgb(255,255,255)\",\"showgrid\":true,\"showline\":false,\"showticklabels\":true,\"tickcolor\":\"rgb(127,127,127)\",\"tickfont\":{\"color\":\"rgb(51,160,44)\"},\"ticks\":\"outside\",\"title\":{\"font\":{\"color\":\"rgb(51,160,44)\"},\"text\":\"loss value\"},\"zeroline\":false}},                        {\"responsive\": true}                    ).then(function(){\n",
       "                            \n",
       "var gd = document.getElementById('7b788a10-711a-4fd6-ab1e-d6d766b19b60');\n",
       "var x = new MutationObserver(function (mutations, observer) {{\n",
       "        var display = window.getComputedStyle(gd).display;\n",
       "        if (!display || display === 'none') {{\n",
       "            console.log([gd, 'removed!']);\n",
       "            Plotly.purge(gd);\n",
       "            observer.disconnect();\n",
       "        }}\n",
       "}});\n",
       "\n",
       "// Listen for the removal of the full notebook cells\n",
       "var notebookContainer = gd.closest('#notebook-container');\n",
       "if (notebookContainer) {{\n",
       "    x.observe(notebookContainer, {childList: true});\n",
       "}}\n",
       "\n",
       "// Listen for the clearing of the current output cell\n",
       "var outputEl = gd.closest('.output');\n",
       "if (outputEl) {{\n",
       "    x.observe(outputEl, {childList: true});\n",
       "}}\n",
       "\n",
       "                        })                };                });            </script>        </div>"
      ]
     },
     "metadata": {},
     "output_type": "display_data"
    }
   ],
   "source": [
    "clf = catboost.CatBoostClassifier(\n",
    "    iterations=400,\n",
    "    max_depth=4,\n",
    "    learning_rate=0.1,\n",
    "    rsm=0.7,\n",
    "    od_wait=100,\n",
    "    use_best_model=True,\n",
    "    eval_metric=\"AUC:hints=skip_train~false\",\n",
    "    logging_level=\"Silent\",\n",
    ")\n",
    "summary = clf.select_features(\n",
    "    pools[\"train\"],\n",
    "    eval_set=pools[\"oos\"],\n",
    "    features_for_select=np.arange(len(features)),\n",
    "    steps=10,\n",
    "    num_features_to_select=20,\n",
    "    verbose=0,\n",
    "    plot=True,\n",
    "    train_final_model=False,\n",
    ")"
   ]
  },
  {
   "cell_type": "code",
   "execution_count": 66,
   "id": "146c466c-cde8-41a8-9496-4990c6f55343",
   "metadata": {
    "execution": {
     "iopub.execute_input": "2022-06-08T22:09:31.169509Z",
     "iopub.status.busy": "2022-06-08T22:09:31.169287Z",
     "iopub.status.idle": "2022-06-08T22:09:31.174042Z",
     "shell.execute_reply": "2022-06-08T22:09:31.173665Z",
     "shell.execute_reply.started": "2022-06-08T22:09:31.169490Z"
    },
    "tags": []
   },
   "outputs": [
    {
     "data": {
      "text/plain": [
       "33"
      ]
     },
     "execution_count": 66,
     "metadata": {},
     "output_type": "execute_result"
    }
   ],
   "source": [
    "features = summary[\"selected_features_names\"] + [\n",
    "    name\n",
    "    for name, a, b in zip(\n",
    "        summary[\"eliminated_features_names\"],\n",
    "        summary[\"loss_graph\"][\"loss_values\"],\n",
    "        summary[\"loss_graph\"][\"loss_values\"][1:],\n",
    "    )\n",
    "    if b - a > 0.00001\n",
    "]\n",
    "ignored_features = sorted(set(pools['train'].get_feature_names()) - set(features))\n",
    "len(features)"
   ]
  },
  {
   "cell_type": "code",
   "execution_count": 67,
   "id": "c1c4d87d-5bfe-4f36-8524-27ac8c61a55c",
   "metadata": {
    "execution": {
     "iopub.execute_input": "2022-06-08T22:09:31.174968Z",
     "iopub.status.busy": "2022-06-08T22:09:31.174679Z",
     "iopub.status.idle": "2022-06-08T22:09:34.984248Z",
     "shell.execute_reply": "2022-06-08T22:09:34.983689Z",
     "shell.execute_reply.started": "2022-06-08T22:09:31.174951Z"
    },
    "tags": []
   },
   "outputs": [],
   "source": [
    "pools = {\n",
    "    k: catboost.Pool(v[v[\"target\"] != -1][features], v[v[\"target\"] != -1][\"target\"], cat_features=sorted(set(cat_features) & set(features)))\n",
    "    for k, v in samples.items()\n",
    "}"
   ]
  },
  {
   "cell_type": "code",
   "execution_count": 68,
   "id": "ca4074c3-b0c3-41e3-93b2-062a7657c963",
   "metadata": {
    "execution": {
     "iopub.execute_input": "2022-06-08T22:09:34.985857Z",
     "iopub.status.busy": "2022-06-08T22:09:34.985506Z",
     "iopub.status.idle": "2022-06-08T22:09:34.991103Z",
     "shell.execute_reply": "2022-06-08T22:09:34.990633Z",
     "shell.execute_reply.started": "2022-06-08T22:09:34.985835Z"
    },
    "tags": []
   },
   "outputs": [],
   "source": [
    "def objective2(trial):\n",
    "    params = {\n",
    "        \"iterations\": 400,\n",
    "        \"learning_rate\": trial.suggest_float(\"learning_rate\", 0.03, 0.2),\n",
    "        \"depth\": trial.suggest_int(\"depth\", 1, 6),\n",
    "        \"grow_policy\": \"SymmetricTree\",\n",
    "        \"od_wait\": 50,\n",
    "        \"eval_metric\": \"AUC\",\n",
    "        \"logging_level\": \"Silent\",\n",
    "    }\n",
    "    if params[\"grow_policy\"] != \"Depthwise\":\n",
    "        extra = {\n",
    "            \"rsm\": trial.suggest_float(\"rsm\", 0.1, 1.0),\n",
    "            \"l2_leaf_reg\": trial.suggest_float(\"l2_leaf_reg\", 1.0, 50.0),\n",
    "            # \"bootstrap_type\": trial.suggest_categorical(\"bootstrap_type\", [\"Bayesian\", \"Bernoulli\", \"MVS\"]),\n",
    "            \"random_strength\": trial.suggest_float(\"random_strength\", 0.1, 10.0),\n",
    "            # \"langevin\": trial.suggest_categorical(\"langevin\", [True, False]),\n",
    "        }\n",
    "        params = {**params, **extra}\n",
    "    clf = catboost.CatBoostClassifier(\n",
    "        **params,\n",
    "    )\n",
    "\n",
    "    clf.fit(\n",
    "        pools[\"train\"],\n",
    "        eval_set=pools[\"oos\"],\n",
    "        verbose=0,\n",
    "        plot=False,\n",
    "    )\n",
    "    x = samples[\"oos\"][samples[\"oos\"][\"target\"] != -1]\n",
    "    proba = clf.predict_proba(x[features])[:, 1]\n",
    "    return roc_auc_score(x['target'], proba)"
   ]
  },
  {
   "cell_type": "code",
   "execution_count": null,
   "id": "434f4d3f-1f18-4a79-a8a7-42bddfdf605a",
   "metadata": {
    "execution": {
     "iopub.execute_input": "2022-06-08T22:09:34.992262Z",
     "iopub.status.busy": "2022-06-08T22:09:34.991853Z"
    },
    "tags": []
   },
   "outputs": [
    {
     "name": "stderr",
     "output_type": "stream",
     "text": [
      "\u001b[32m[I 2022-06-08 22:09:35,025]\u001b[0m A new study created in RDB with name: catboost_02\u001b[0m\n",
      "\u001b[32m[I 2022-06-08 22:12:16,435]\u001b[0m Trial 0 finished with value: 0.7075131986438284 and parameters: {'learning_rate': 0.09367182020405163, 'depth': 6, 'rsm': 0.7587945476302645, 'l2_leaf_reg': 30.334265725654795, 'random_strength': 1.6445845403801216}. Best is trial 0 with value: 0.7075131986438284.\u001b[0m\n",
      "\u001b[32m[I 2022-06-08 22:12:52,493]\u001b[0m Trial 1 finished with value: 0.6652036086942572 and parameters: {'learning_rate': 0.05651906845715445, 'depth': 1, 'rsm': 0.8795585311974417, 'l2_leaf_reg': 30.45463557541723, 'random_strength': 7.10991852018085}. Best is trial 0 with value: 0.7075131986438284.\u001b[0m\n",
      "\u001b[32m[I 2022-06-08 22:15:38,861]\u001b[0m Trial 2 finished with value: 0.6914653525211784 and parameters: {'learning_rate': 0.033499364030286416, 'depth': 6, 'rsm': 0.8491983767203796, 'l2_leaf_reg': 11.404616423235531, 'random_strength': 1.9000671753502962}. Best is trial 0 with value: 0.7075131986438284.\u001b[0m\n",
      "\u001b[32m[I 2022-06-08 22:16:29,808]\u001b[0m Trial 3 finished with value: 0.6778960309149668 and parameters: {'learning_rate': 0.06117876667508375, 'depth': 2, 'rsm': 0.5722807884690141, 'l2_leaf_reg': 22.165305913463673, 'random_strength': 2.983168487960615}. Best is trial 0 with value: 0.7075131986438284.\u001b[0m\n"
     ]
    }
   ],
   "source": [
    "storage = optuna.storages.RDBStorage(\"sqlite:///catboost.db\")\n",
    "study = optuna.create_study(\n",
    "    storage=storage,\n",
    "    sampler=optuna.samplers.TPESampler(seed=42),\n",
    "    study_name=\"catboost_02\",\n",
    "    direction=\"maximize\",\n",
    "    load_if_exists=True,\n",
    ")\n",
    "study.optimize(objective2, n_trials=40)"
   ]
  },
  {
   "cell_type": "code",
   "execution_count": null,
   "id": "5fd1ccc6-359d-4d75-a5ef-e88aa28dae89",
   "metadata": {},
   "outputs": [],
   "source": []
  }
 ],
 "metadata": {
  "kernelspec": {
   "display_name": "Python 3 (ipykernel)",
   "language": "python",
   "name": "python3"
  },
  "language_info": {
   "codemirror_mode": {
    "name": "ipython",
    "version": 3
   },
   "file_extension": ".py",
   "mimetype": "text/x-python",
   "name": "python",
   "nbconvert_exporter": "python",
   "pygments_lexer": "ipython3",
   "version": "3.8.10"
  }
 },
 "nbformat": 4,
 "nbformat_minor": 5
}
